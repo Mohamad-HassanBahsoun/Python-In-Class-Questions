{
 "cells": [
  {
   "cell_type": "code",
   "execution_count": 15,
   "metadata": {},
   "outputs": [
    {
     "name": "stdout",
     "output_type": "stream",
     "text": [
      "f\n"
     ]
    }
   ],
   "source": []
  },
  {
   "cell_type": "code",
   "execution_count": 60,
   "metadata": {},
   "outputs": [
    {
     "name": "stdout",
     "output_type": "stream",
     "text": [
      "Given Temps: ['5', '', '5.5', '6.2', '4.5', 'N/A', '5.67', '2.54', '5.78', '9.54']\n",
      "Median: N/A\n",
      "-----\n",
      "Given Temps: ['5', 'N/A', '5', '3']\n",
      "Median: N/A\n",
      "-----\n",
      "Given Temps: []\n",
      "Median: N/A\n",
      "-----\n",
      "Given Temps: ['', '', 'Hello']\n",
      "Median: N/A\n"
     ]
    }
   ],
   "source": []
  },
  {
   "cell_type": "code",
   "execution_count": 9,
   "metadata": {},
   "outputs": [
    {
     "name": "stdout",
     "output_type": "stream",
     "text": [
      "True\n"
     ]
    }
   ],
   "source": [
    "class Hello:\n",
    "    def __init__(self, l, w):\n",
    "        self.l = l\n",
    "        self.w = w\n",
    "    \n",
    "    def area(self):\n",
    "        return self.l == self.w\n",
    "    \n",
    "a = Hello(10,10)\n",
    "\n",
    "print(a.area())"
   ]
  },
  {
   "cell_type": "code",
   "execution_count": 1,
   "metadata": {},
   "outputs": [],
   "source": [
    "class Player:\n",
    "    def __init__(self,name):\n",
    "        if (name == \"\"):\n",
    "        # Here we are checking if the name entered is an empty string, if so name is initialized as 'Default'\n",
    "            self.name = \"Default\"\n",
    "        else:\n",
    "            self.name = name\n",
    "        \n",
    "        # This is where we initialize the instance of the following variables\n",
    "        self.health = 100\n",
    "        self.level = 0\n",
    "        self.current_score = 0\n",
    "        self.score_to_lvl_up = 50\n",
    "        self.attacks = [[\"Fast attack\",5],[\"Slow attack\",15],[\"Default Special Attack\",20]]\n",
    "        \n",
    "        \n",
    "    # The following \"get_\" methods all return their asscociated attributes \n",
    "    def get_name(self):\n",
    "        return self.name\n",
    "    \n",
    "    \n",
    "    def get_health(self):\n",
    "        return self.health\n",
    "    \n",
    "   \n",
    "    def get_level(self):\n",
    "        return self.level\n",
    "    \n",
    "    \n",
    "    def get_score(self):\n",
    "        return self.current_score\n",
    "    \n",
    "    \n",
    "    def get_next_lvl_score(self):\n",
    "        return self.score_to_lvl_up\n",
    "    \n",
    "    \n",
    "    def get_attacks(self):\n",
    "        return self.attacks\n",
    "    \n",
    "    \n",
    "    def raise_health(self,val):\n",
    "        if (val>0):\n",
    "        # Before rasing the health we check if val is a nugative number or 0, if thats the case we do nothing \n",
    "            self.health +=val\n",
    "            if(self.health>100):\n",
    "            # When we take the sum of val and health, and it is greater than 100 we set health to 100\n",
    "                self.health = 100\n",
    "        \n",
    "        \n",
    "    def replace_attack(self, i, name, strength):\n",
    "        self.attacks[i] = [name,strength]\n",
    "        # Here we replace the element at the selected index with the new chosen attack and its strength \n",
    "            \n",
    "            \n",
    "    def take_damage(self,quantity):\n",
    "        if(quantity >= self.health):\n",
    "            # If the quantity of damage taken is equal to or greater than the players health than we set health to 0\n",
    "            self.health = 0\n",
    "        if(quantity < self.health):\n",
    "            quantity = abs(quantity)\n",
    "            # Here is where we subtract the damage from current health (abs is there just incase the user decides his damge is a negative value)\n",
    "            self.health -= quantity\n",
    "            \n",
    "            \n",
    "    def perform_attack(self, i, player_2):\n",
    "        try:\n",
    "            player2_health_bef = player_2.get_health()\n",
    "            # We initialize player 2's health before any damage is taken\n",
    "            \n",
    "            player_2.take_damage(self.attacks[i][1])\n",
    "            # Damage is taken by player 2 from player 1\n",
    "            \n",
    "            player2_health_current = player_2.get_health()\n",
    "            # We initialize player 2's current health after damage is taken\n",
    "           \n",
    "            damage_given = abs(player2_health_current - player2_health_bef)\n",
    "            \n",
    "            if ((self.current_score + damage_given) < self.score_to_lvl_up):\n",
    "                # If the sum of damage_given and current score results in a value less than score_to_lvl_up\n",
    "                # then we add damage_given to the current score\n",
    "                self.current_score = self.current_score + damage_given\n",
    "            \n",
    "            else:\n",
    "                # If the sum of damage_given and current score results in a value equal to or greater than score_to_lvl_up\n",
    "                # then the following occur\n",
    "                self.level +=1\n",
    "                self.current_score = 0\n",
    "                self.score_to_lvl_up += 20\n",
    "                for i in self.attacks:\n",
    "                    i[1] += 5\n",
    "        \n",
    "        except: # If an error occurs we print a message\n",
    "            return \"N/A\""
   ]
  },
  {
   "cell_type": "code",
   "execution_count": 2,
   "metadata": {},
   "outputs": [],
   "source": [
    "# YOUR CODE HERE\n",
    "def simulate_battle(player_1, player_2, player_1_moves, player_2_moves):\n",
    "    # Player 1 applies their attacks first\n",
    "    for i in player_1_moves:\n",
    "        player_1.perform_attack(i,player_2)\n",
    "        # after each iteration we check if player2 is still alive, if not, player 1 wins\n",
    "        \n",
    "        if (player_2.get_health() == 0):\n",
    "            return (player_1.get_name())\n",
    "    \n",
    "    \n",
    "    # Is Player 2 is still alive then Player 2 applies their attacks \n",
    "    for i in player_2_moves:\n",
    "        player_2.perform_attack(i,player_1)\n",
    "        # after each iteration we check if player1 is still alive, if not, player 2 wins\n",
    "        \n",
    "        if (player_1.get_health() == 0):\n",
    "            return (player_2.get_name())\n",
    "        \n",
    "        # if both player are still alive and now winner has been decalred then we return an empty string\n",
    "    return \"\""
   ]
  },
  {
   "cell_type": "code",
   "execution_count": 7,
   "metadata": {},
   "outputs": [
    {
     "name": "stdout",
     "output_type": "stream",
     "text": [
      "\n"
     ]
    }
   ],
   "source": [
    "p = Player(\"Mo\")\n",
    "p2 = Player(\"aid\")\n",
    "pm = [0,1,2,1]\n",
    "p2m = [0,1]\n",
    "print(simulate_battle(p,p2,pm,p2m))"
   ]
  },
  {
   "cell_type": "code",
   "execution_count": null,
   "metadata": {},
   "outputs": [],
   "source": []
  }
 ],
 "metadata": {
  "kernelspec": {
   "display_name": "Python 3",
   "language": "python",
   "name": "python3"
  },
  "language_info": {
   "codemirror_mode": {
    "name": "ipython",
    "version": 3
   },
   "file_extension": ".py",
   "mimetype": "text/x-python",
   "name": "python",
   "nbconvert_exporter": "python",
   "pygments_lexer": "ipython3",
   "version": "3.8.3"
  }
 },
 "nbformat": 4,
 "nbformat_minor": 4
}
