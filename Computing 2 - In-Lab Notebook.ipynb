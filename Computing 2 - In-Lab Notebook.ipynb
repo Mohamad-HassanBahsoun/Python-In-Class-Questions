{
 "cells": [
  {
   "cell_type": "markdown",
   "metadata": {
    "colab_type": "text",
    "id": "QNa8iArXtPq4"
   },
   "source": [
    "# __1P13 Week *5*__ - _Form follows function_\n",
    "---\n",
    "# Overview\n",
    "Welcome to another week of 1P13. This week we will be covering:\n",
    "\n",
    "* Defining and calling functions\n",
    "\n",
    "* Passing Arguments\n",
    "\n",
    "* Returning Values\n",
    "\n",
    "* Variable Scope"
   ]
  },
  {
   "cell_type": "markdown",
   "metadata": {
    "colab_type": "text",
    "id": "rasMmhQ9b3nB"
   },
   "source": [
    "---\n",
    "# 1. Writing your OWN functions\n",
    "\n",
    "\n",
    "## 1.1 Function Definition Syntax\n"
   ]
  },
  {
   "cell_type": "markdown",
   "metadata": {
    "colab_type": "text",
    "id": "D1HzpMbDfhJF"
   },
   "source": [
    "## Function Call (w/ and w/o Parameters)\n"
   ]
  },
  {
   "cell_type": "markdown",
   "metadata": {
    "colab_type": "text",
    "id": "V9V734RLk7Co"
   },
   "source": [
    "Function with parameters"
   ]
  },
  {
   "cell_type": "code",
   "execution_count": null,
   "metadata": {
    "colab": {
     "base_uri": "https://localhost:8080/",
     "height": 34
    },
    "colab_type": "code",
    "id": "H6IMjwSdfLpC",
    "outputId": "9181c6d5-60cb-475d-c592-6d1dc852be78"
   },
   "outputs": [],
   "source": [
    "#Make a function that returns the sum of the roots of two numbers\n",
    "\n",
    "\n",
    "#Call the function with parameters\n"
   ]
  },
  {
   "cell_type": "markdown",
   "metadata": {
    "colab_type": "text",
    "id": "QKDKCNV5lKq0"
   },
   "source": [
    "Here's the same function but now without parameters, just to show that you can make parameterless functions"
   ]
  },
  {
   "cell_type": "code",
   "execution_count": null,
   "metadata": {
    "colab": {
     "base_uri": "https://localhost:8080/",
     "height": 34
    },
    "colab_type": "code",
    "id": "vPxfw26xlQy_",
    "outputId": "709ec243-ffde-4ae0-971a-cfd9cced3fd7"
   },
   "outputs": [],
   "source": [
    "#we'll define the variables locally now\n"
   ]
  },
  {
   "cell_type": "markdown",
   "metadata": {
    "colab_type": "text",
    "id": "viZDTNR0msd5"
   },
   "source": [
    "We can set our function to use default parameters if we might not always have inputs to give but need a result!"
   ]
  },
  {
   "cell_type": "code",
   "execution_count": null,
   "metadata": {
    "colab": {
     "base_uri": "https://localhost:8080/",
     "height": 85
    },
    "colab_type": "code",
    "id": "Hi9lZvptm1O4",
    "outputId": "145fb767-fad3-4348-aa5d-0db0b1c47308"
   },
   "outputs": [],
   "source": [
    "#Make a function that takes 2 strings as parameters and prints them\n",
    "#If no inputs are provided it should default to some strings you set\n",
    "\n",
    "\n",
    "#Let's call it with arguments\n",
    "\n",
    "\n",
    "#And now without any\n"
   ]
  },
  {
   "cell_type": "markdown",
   "metadata": {
    "colab_type": "text",
    "id": "68YRRcdxeTxv"
   },
   "source": [
    "---\n",
    "# 2. Returning Values\n",
    "\n",
    "## 2.1 Returning different data types\n",
    "\n"
   ]
  },
  {
   "cell_type": "markdown",
   "metadata": {
    "colab_type": "text",
    "id": "P4bI_vLTngUw"
   },
   "source": [
    "Let's try returning a list instead of just a number"
   ]
  },
  {
   "cell_type": "code",
   "execution_count": null,
   "metadata": {
    "colab": {
     "base_uri": "https://localhost:8080/",
     "height": 51
    },
    "colab_type": "code",
    "id": "MuAnS0QMfN-q",
    "outputId": "690dd7e9-d24b-4e22-84e5-399df8b35a36"
   },
   "outputs": [],
   "source": [
    "#Given 3 inputs to a function, place them in a list in order and return that list\n",
    "\n",
    "\n",
    "\n",
    "#Call the function and see if it works\n"
   ]
  },
  {
   "cell_type": "markdown",
   "metadata": {
    "colab_type": "text",
    "id": "8iwH0UqjnwZ-"
   },
   "source": [
    "Another thing we can do is return MULTIPLE items at once"
   ]
  },
  {
   "cell_type": "code",
   "execution_count": null,
   "metadata": {
    "colab": {
     "base_uri": "https://localhost:8080/",
     "height": 51
    },
    "colab_type": "code",
    "id": "06cGernCn04D",
    "outputId": "52b9d418-a53a-435b-be9d-747e6bb215df"
   },
   "outputs": [],
   "source": [
    "#Make a function that takes two integers as input\n",
    "#Have the function calculate the sum and difference and return both values\n",
    "\n",
    "\n",
    "#Extract the values into variables\n",
    "\n",
    "\n",
    "#Print them out\n"
   ]
  },
  {
   "cell_type": "markdown",
   "metadata": {
    "colab_type": "text",
    "id": "9667R3S5fOO_"
   },
   "source": [
    "## 2.2 Returning None\n"
   ]
  },
  {
   "cell_type": "markdown",
   "metadata": {
    "colab_type": "text",
    "id": "MXzoibSKl_QI"
   },
   "source": [
    "Let's take the first demo again, but not put a return statement at the end"
   ]
  },
  {
   "cell_type": "code",
   "execution_count": null,
   "metadata": {
    "colab": {
     "base_uri": "https://localhost:8080/",
     "height": 51
    },
    "colab_type": "code",
    "id": "YaxKZKkXfHlh",
    "outputId": "f5628c4e-12a1-475d-9f3f-0602e7b75d9e"
   },
   "outputs": [],
   "source": [
    "#print the sum in the function instead of returning it\n",
    "\n",
    "\n",
    "#So since we don't return anything from the function what will the return print after the function is done?\n",
    "\n",
    "\n",
    "#Depending on the situation you may either want to return from the function or just have the function print something.\n",
    "#Always double-check what you need to be doing"
   ]
  },
  {
   "cell_type": "markdown",
   "metadata": {
    "colab_type": "text",
    "id": "Fy0Vsp1NedTF"
   },
   "source": [
    "---\n",
    "# 3. Variable scope\n",
    "\n",
    "## 3.1 Local vs global\n"
   ]
  },
  {
   "cell_type": "markdown",
   "metadata": {
    "colab_type": "text",
    "id": "086spDWKknrc"
   },
   "source": [
    "Variable scope is an important topic to grasp so make you understand these demos"
   ]
  },
  {
   "cell_type": "code",
   "execution_count": null,
   "metadata": {
    "colab": {
     "base_uri": "https://localhost:8080/",
     "height": 68
    },
    "colab_type": "code",
    "id": "eLR8Ew71c4jy",
    "outputId": "54366654-6120-467e-9ddf-b3a8243f1191"
   },
   "outputs": [],
   "source": [
    "my_num = 21 "
   ]
  },
  {
   "cell_type": "markdown",
   "metadata": {
    "colab_type": "text",
    "id": "2zxH4cC2kuF6"
   },
   "source": [
    "Example 2"
   ]
  },
  {
   "cell_type": "code",
   "execution_count": null,
   "metadata": {
    "colab": {
     "base_uri": "https://localhost:8080/",
     "height": 51
    },
    "colab_type": "code",
    "id": "B5t1ilemjxRL",
    "outputId": "fe1aea06-4b22-44da-8c9f-b479854983c8"
   },
   "outputs": [],
   "source": [
    "#Make a function that takes 'number' as input and simply sets it to 1\n",
    "number = 0\n",
    "\n",
    "\n",
    "#Let's call the function and then print the global variable 'number'\n",
    "#Will it be 1 or 0?\n",
    "\n",
    "\n",
    "\n",
    "#Now let's set the return of the function to a value and print that instead\n"
   ]
  },
  {
   "cell_type": "markdown",
   "metadata": {
    "colab_type": "text",
    "id": "i9yozcmZnNiG"
   },
   "source": [
    "Example 3 - remember Unbound Local errors from lab 2"
   ]
  },
  {
   "cell_type": "code",
   "execution_count": null,
   "metadata": {
    "colab": {
     "base_uri": "https://localhost:8080/",
     "height": 51
    },
    "colab_type": "code",
    "id": "ZJBB_OmhnRTu",
    "outputId": "e196b81b-f727-448a-9907-c2d639e774b0"
   },
   "outputs": [],
   "source": [
    "'''\n",
    "val = 4\n",
    "def valPlusOne():\n",
    "    val = val + 1\n",
    "    return val\n",
    "valPlusOne()\n",
    "'''\n",
    "\n",
    "#Remember Lab 1B. In the commented above code we are trying to increment val before it even has a value\n",
    "#That gives an Unbound Local Error\n",
    "#How do we fix that?\n",
    "\n",
    "\n",
    "#Print the return val and the global val to see what's happening\n"
   ]
  },
  {
   "cell_type": "markdown",
   "metadata": {
    "colab_type": "text",
    "id": "OqRQPHKmkxkk"
   },
   "source": [
    "How to modify global variables"
   ]
  },
  {
   "cell_type": "code",
   "execution_count": null,
   "metadata": {
    "colab": {
     "base_uri": "https://localhost:8080/",
     "height": 34
    },
    "colab_type": "code",
    "id": "65o4A23vj5yW",
    "outputId": "8e2499c1-deed-4bdb-f8da-fdf58a7e4cf5"
   },
   "outputs": [],
   "source": [
    "#Modifying global variables inside functions"
   ]
  },
  {
   "cell_type": "markdown",
   "metadata": {
    "colab_type": "text",
    "id": "faRimhqU404M"
   },
   "source": [
    "---\n",
    "# Breakout Problem\n"
   ]
  },
  {
   "cell_type": "markdown",
   "metadata": {},
   "source": [
    "In your teams, create a program that calculates the future value of money using compound and simple interest. We define the variables A,P,r,n, and t below.\n",
    "\n",
    "- A\t=\tFinal amount\n",
    "- P\t=\tInitial principal balance\n",
    "- r\t=\tInterest rate\n",
    "- n\t=\tNumber of times interest applied per time period\n",
    "- t\t=\tNumber of time periods elapsed\n",
    "\n",
    "Compound interest is calculated using the following formula: $$A = P * (1+\\frac{r}{n})^{n*t} \\tag{1}$$\n",
    "Simple interest is calculated using the following formula:\n",
    "$$A = P * (1+r*t) \\tag{2}$$\n",
    "\n",
    "Define two functions, one for calculating compound interest and one for calculating simple interest. Create your two functions BEFORE the main function. Once you have created your functions, call them in your main function with the supplied parameters, and print the results from each function."
   ]
  },
  {
   "cell_type": "code",
   "execution_count": 9,
   "metadata": {},
   "outputs": [
    {
     "name": "stdout",
     "output_type": "stream",
     "text": [
      "122.03909613755593\n",
      "120.0\n"
     ]
    }
   ],
   "source": [
    "# DEFINE COMPOUND INTEREST FUNCTION HERE\n",
    "def compound(P,r,n,t):\n",
    "    return P*(1+(r/n))**(n*t)\n",
    "   \n",
    "# DEFINE SIMPLE INTEREST FUNCTION HERE\n",
    "def simple(P,r,t):\n",
    "    return P*(1+(r*t))\n",
    "\n",
    "def main():\n",
    "    P = 100\n",
    "    r = 0.1\n",
    "    n = 12\n",
    "    t = 2\n",
    "    # CALL YOUR COMPOUND INTEREST FUNCTION HERE\n",
    "    c = compound(P,r,n,t)\n",
    "    # CALL YOUR SIMPLE INTEREST FUNCTION HERE\n",
    "    s = simple(P,r,t)\n",
    "    # PRINT THE RESULTS FROM EACH FUNCTION\n",
    "    print(c)\n",
    "    print(s)\n",
    "    \n",
    "main()"
   ]
  },
  {
   "cell_type": "markdown",
   "metadata": {},
   "source": [
    "---\n",
    "## Additional Resources\n",
    "[Python Functions](https://www.w3schools.com/python/python_functions.asp)\n",
    "\n",
    "\n",
    "[Learn Python: Functions](https://www.learnpython.org/en/Functions)\n",
    "\n",
    "\n",
    "[Eval() Function](https://www.w3schools.com/python/ref_func_eval.asp)\n",
    "\n",
    "[Python Global Variables](https://www.w3schools.com/python/gloss_python_global_variables.asp)\n",
    "\n",
    "[Python Scope](https://www.w3schools.com/python/python_scope.asp)\n",
    "\n"
   ]
  }
 ],
 "metadata": {
  "colab": {
   "collapsed_sections": [],
   "name": "Computing 2 - Lab Notebook Solutions",
   "provenance": []
  },
  "kernelspec": {
   "display_name": "Python 3",
   "language": "python",
   "name": "python3"
  },
  "language_info": {
   "codemirror_mode": {
    "name": "ipython",
    "version": 3
   },
   "file_extension": ".py",
   "mimetype": "text/x-python",
   "name": "python",
   "nbconvert_exporter": "python",
   "pygments_lexer": "ipython3",
   "version": "3.8.3"
  }
 },
 "nbformat": 4,
 "nbformat_minor": 1
}
