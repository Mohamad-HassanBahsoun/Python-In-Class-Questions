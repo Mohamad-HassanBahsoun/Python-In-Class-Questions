{
 "cells": [
  {
   "cell_type": "markdown",
   "metadata": {
    "colab_type": "text",
    "id": "qwLGahydX5SB"
   },
   "source": [
    "# Computing 5 Assignment\n",
    "\n"
   ]
  },
  {
   "cell_type": "markdown",
   "metadata": {
    "colab_type": "text",
    "id": "7ti8TYwYX5NI"
   },
   "source": [
    "---\n",
    "## Background\n",
    "\n",
    "In this assignment you will be implementing a set of functions used in conjunction to form a website login system. Your system will utilize a text file for storing, retrieving, and verifying user credentials. We identify users based on their **username** and **password**. For simplicity we assume that usernames and passwords only contain alphanumeric characters. Alphanumeric characters represent the numbers **0-9** and the letters **A-Z** (both uppercase and lowercase). Usernames and passwords are case sensitive and must contain **at least 6** characters. Usernames must be unique.\n",
    "\n",
    "Each username and password combination will be stored on its own line in the text file. Each line in the text file has the following format:\n",
    "\n",
    "\n",
    "<br>\n",
    "\\begin{align}\n",
    "  \\texttt{username\\tpassword\\n}\\tag{1}\n",
    "\\end{align}\n",
    "<br>\n",
    "\n",
    "More explicitly, each line in the text file will contain a user’s username, a tab character, and that user’s password followed by the newline character. Please note that when opening the text file for viewing you will not explicitly see the **\\t** and **\\n** characters.\n",
    "\n",
    "\n",
    "In your implementation, usernames and passwords will be stored as plain text. This means that all usernames and passwords can easily be compromised if access to the text file is provided. This is extremely dangerous in the real world and poses huge security issues. In practicality, passwords are encrypted before stored so that they are not easily identifiable in the event of a data breach. Thus, please do not use any real passwords when developing and testing your program. \n",
    "\n",
    "The following section contains additional information that will assist in implementing your login system."
   ]
  },
  {
   "cell_type": "markdown",
   "metadata": {
    "colab_type": "text",
    "id": "ocd0cCuk4AvP"
   },
   "source": [
    "---\n",
    "## Additional Information\n",
    "\n",
    "There are two functionalities built into python that will assist in implementing your system.\n",
    "\n",
    "At this point you should be familiar with python's **in** keyword. You have used it to iterate through a sequence in a for loop. For example **for i in range(10):** will iterate through the numbers 0-9. The **in** keyword can also be used to identify if a value is present in a sequence. This is achieved using the following expression:\n",
    "\n",
    "<br>\n",
    "\\begin{align}\n",
    "  \\texttt{<value> in <sequence>}\n",
    "\\end{align}\n",
    "<br>\n",
    "\n",
    "The expression will return **True** if the value is present in the list, otherwise **False**. Consider the following example: \n"
   ]
  },
  {
   "cell_type": "code",
   "execution_count": null,
   "metadata": {
    "colab": {},
    "colab_type": "code",
    "id": "jXLiATFs4cvE"
   },
   "outputs": [],
   "source": [
    "x = [\"a\",\"b\",\"c\",\"d\"]\n",
    "result1 = \"d\" in x\n",
    "result2 = \"OKAY\" in x\n",
    "result3 = 5 in x\n",
    "result4 = \"b\" in x\n",
    "print(result1, result2, result3, result4)"
   ]
  },
  {
   "cell_type": "markdown",
   "metadata": {
    "colab_type": "text",
    "id": "3ScDuGA64iZI"
   },
   "source": [
    "Run the code to see which expressions result to True and which result to False!\n",
    "\n",
    "Secondly, the **index** method can be used to find the index of a given value in a sequence. This is achieved using the following expression:\n",
    "\n",
    "<br>\n",
    "\\begin{align}\n",
    "  \\texttt{<sequence>.index(<value>)}\n",
    "\\end{align}\n",
    "<br>\n",
    "\n",
    "Consider the following example:\n"
   ]
  },
  {
   "cell_type": "code",
   "execution_count": null,
   "metadata": {
    "colab": {},
    "colab_type": "code",
    "id": "71fv8-5w48T1",
    "scrolled": true
   },
   "outputs": [],
   "source": [
    "x = [\"a\",\"b\",\"c\",\"d\"]\n",
    "i1 = x.index(\"a\")\n",
    "i2 = x.index(\"b\")\n",
    "i3 = x.index(\"d\")\n",
    "print(i1,i2,i3)"
   ]
  },
  {
   "cell_type": "markdown",
   "metadata": {
    "colab_type": "text",
    "id": "Er3bNU7v4-f8"
   },
   "source": [
    "Run the code to verify that i1, i2, and i3 contain the index of “a”, “b”, and “d” in the list x, respectively. Note that the command will provide an error if the value does not exist in the sequence. In addition, the command will return the index of the first occurrence of a value if duplicated values exist in a given list. For the purposes of this assignment, you do not have to worry about these cases!\n",
    "\n",
    "You now have all the information necessary to begin implementing the login system!"
   ]
  },
  {
   "cell_type": "markdown",
   "metadata": {},
   "source": [
    "---\n",
    "## NOTE: YOU WILL BE MARKED ON MULTIPLE ITEMS IN THIS LAB IN ADDITION TO THE FUNCTIONALITY OF YOUR CODE\n",
    " - Variable Names\n",
    " - Commenting\n",
    " - General Legibility\n",
    " - Reflective Questions"
   ]
  },
  {
   "cell_type": "markdown",
   "metadata": {
    "colab_type": "text",
    "id": "F0rMpqpbbe6b"
   },
   "source": [
    "---\n",
    "## Program Requirements (12 Marks)\n",
    "\n",
    "Your task is to implement a set of functions that will be used in conjunction to form a website login system. Your system will read and write user credentials from a text file that emulates a database. The requirements of the system are given below. Please ensure that your functions have the EXACT naming as specified! Failure to do so will result in lost marks.\n",
    "\n",
    "\n",
    "1. Define a function **getUserData**(*filename*):\n",
    "  - ***filename***: A *string* representing the name of the text file (ex. “database.txt”) that stores user login credentials in the form of (1).\n",
    "  - **Function Description**: The function performs the following actions:\n",
    "    - Opens a file with the name *filename* for reading.\n",
    "    - Initializes two empty lists: **usernames**, and **passwords**\n",
    "    - Iterates through each line in the file and extracts the username and password in each line. On each iteration, the username is appended as a string to **usernames** and the password is appended as a string to **passwords**. Thus, after each line in the file has been iterated, **usernames[i]** and **passwords[i]** will contain the username and password for a given user at a given index i\n",
    "    - Closes the file with *filename*<br>*(Note that it is assumed that the file associated with filename exists before the function is called)*\n",
    "  - **Return**: A *list* of length 2 where the first element is the **usernames** list and the second element is the **passwords** list populated with the data from *filename* as described above. <br>*(Hint: You can split at tabs by providing \"\\t\" as the argument, similar to \"\\n\" for new lines)*\n",
    "  \n",
    "\n",
    "2. Define a function **exists**(*username*, *filename*):\n",
    "  - ***username***: A *string* representing a username.\n",
    "  - ***filename***: A *string* representing the name of the text file (ex. “database.txt”) that stores user login credentials in the form of (1).\n",
    "  - **Return**: *True* if *username* exists in *filename*, otherwise *False*.<br>*(Hint: User your getUserData function and the **in** keyword. Refer to the additinal information section*\n",
    "\n",
    "\n",
    "3. Define a function **createUser**(*username*, *password*, *filename*):\n",
    "  - ***username***: A *string* representing a username.\n",
    "  - ***password***: A *string* representing a password.\n",
    "  - ***filename***: A *string* representing the name of the text file (ex. “database.txt”) that stores user login credentials in the form of (1).\n",
    "  - **Function Description**: The function performs the following actions:\n",
    "    - If *username* **does not** exist in *filename*, open *filename* in append mode, write the username and password in the form (1), and close the file.\n",
    "    - If *username* **does** exist in *filename*, do nothing.\n",
    "  - **Return**: *True* if *username* and *password* were added to *filename*, otherwise *False*\n",
    "\n",
    "\n",
    "4. Define a function **login**(*username*, *password*, *filename*):\n",
    "  - ***username***: A *string* representing a username.\n",
    "  - ***password***: A *string* representing a password.\n",
    "  - ***filename***: A *string* representing the name\n",
    "  - **Function Description**: The function performs the following actions:\n",
    "    - If *username* **does** exist in *filename*, find the password associated with *username* in *filename* and check if *password* is equal to the expected password.<br> *(Hint: Use your **getUserData** function and the **index** method. Refer to the additional information section)*\n",
    "    - If the username **does not** exist in *filename*, do nothing.\n",
    "  - **Return**: *True* if *password* matches the password associated with *username* in *filename*. *False* if the passwords do not match or *username* does not exist in *filename*."
   ]
  },
  {
   "cell_type": "markdown",
   "metadata": {
    "colab_type": "text",
    "id": "0sCzEGhfc6ln"
   },
   "source": [
    "---\n",
    "## Implementation\n",
    "Please define all functions in the cell below"
   ]
  },
  {
   "cell_type": "code",
   "execution_count": null,
   "metadata": {
    "colab": {},
    "colab_type": "code",
    "id": "NhNJnwTQYBQ2"
   },
   "outputs": [
    {
     "name": "stdout",
     "output_type": "stream",
     "text": [
      "Press [q] to quit, [l] to login, [c] to create an account: l\n",
      "Please enter your username: jake\n",
      "Please enter your password: jake\n",
      "Login sucessful!\n",
      "\n",
      "Press [q] to quit, [l] to login, [c] to create an account: l\n",
      "Please enter your username: mo\n",
      "Please enter your password: mo\n",
      "Sorry, login unsucessful :(\n",
      "\n",
      "Press [q] to quit, [l] to login, [c] to create an account: l\n",
      "Please enter your username: mac24\n",
      "Please enter your password: rainbow\n",
      "Sorry, login unsucessful :(\n",
      "\n",
      "Press [q] to quit, [l] to login, [c] to create an account: l\n"
     ]
    }
   ],
   "source": [
    "#-------------------------------------------------------------------------------------------------------------------------------\n",
    "# The \"getUserData\" function opens the database file, reads every line,\n",
    "# and for every line it removes \"\\n\", and will split the line into\n",
    "# a list that contains the username and the password.\n",
    "# It then stores the username into one list, and the password accosiated with it into \n",
    "# another list. The function returns a list containing two elements,  being \n",
    "# the username list, and 2 being the password list\n",
    "# This helps establish what usernames exist and their coressponding passwords (used later on in exists and in login function)\n",
    "\n",
    "def getUserData(filename):\n",
    "    usernames = []\n",
    "    passwords = [] \n",
    "    database_file = open(filename,\"r\")\n",
    "    for line in database_file:\n",
    "        strip_line = line.strip(\"\\n\")\n",
    "        split_line = strip_line.split(\"\\t\")\n",
    "        usernames.append(split_line[0])\n",
    "        passwords.append(split_line[1])\n",
    "    database_file.close()\n",
    "    return [usernames,passwords]\n",
    "#-------------------------------------------------------------------------------------------------------------------------------\n",
    "# The \"exists\" function will take a username as a paramter and check \n",
    "# if it already exits in the database. If it does it will return true, if not false. \n",
    "# this will help us when the user deciedes to create an account if the same one already exists \n",
    "# then they cant use that username\n",
    "\n",
    "def exists(username,filename):\n",
    "    username_list = getUserData(filename)[0]\n",
    "    for user in username_list:\n",
    "        if username in username_list:\n",
    "            return True\n",
    "        else:\n",
    "            return False\n",
    "#-------------------------------------------------------------------------------------------------------------------------------\n",
    "# The \"createUser\" function will create a new user. but only if the username they would like\n",
    "# use does not already exist. If it does not we open the database file and append the new\n",
    "# username with its corresponding password. It if a user is created it will return True, if not False\n",
    "\n",
    "def createUser(username,password,filename):\n",
    "    username_check = exists(username,filename)\n",
    "    if username_check == False:\n",
    "        database_file = open(filename,\"a\")\n",
    "        database_file.write(username + \"\\t\" + password + \"\\n\")\n",
    "        database_file.close()\n",
    "        return True\n",
    "    else:\n",
    "        return False\n",
    "#-------------------------------------------------------------------------------------------------------------------------------\n",
    "# The \"login\" function is what allows you to login in. when you enter a username it check if the username exists.\n",
    "# Then based on the password you enter it will check if the password you entered coresponds to \n",
    "# your usernames password in the database if so login is true (login successful)\n",
    "\n",
    "def login(username,password,filename):\n",
    "    if exists(username,filename):\n",
    "        existing_usernames = getUserData(filename)[0]\n",
    "        existing_passwords = getUserData(filename)[1]\n",
    "        user_location = existing_usernames.index(username)\n",
    "        if password == existing_passwords[user_location]:\n",
    "            return True\n",
    "        else:\n",
    "            return False\n",
    "    else:\n",
    "        return False\n",
    "#-------------------------------------------------------------------------------------------------------------------------------\n",
    "# Testing\n",
    "def main():\n",
    "\n",
    "    database = \"database.txt\"\n",
    "    while True:\n",
    "        ans = input(\"Press [q] to quit, [l] to login, [c] to create an account: \")\n",
    "        if ans == \"q\":\n",
    "            # Break if the user quits\n",
    "            break\n",
    "        elif ans == \"l\":\n",
    "            # Login if the user types in \"l\"\n",
    "            uname = input(\"Please enter your username: \")\n",
    "            password = input(\"Please enter your password: \")\n",
    "            if login(uname, password, database):\n",
    "                print(\"Login sucessful!\\n\")\n",
    "            else:\n",
    "                print(\"Sorry, login unsucessful :(\\n\")\n",
    "        elif ans == \"c\":\n",
    "            # Create an account if the user types in c\n",
    "            uname = input(\"Please create a username: \")\n",
    "            password = input(\"Please create a password: \")\n",
    "            # Check if username exists\n",
    "            if createUser(uname, password, database):\n",
    "                    print(\"Account creation sucessful for user,\",uname,\"\\n\")\n",
    "            else:\n",
    "                    print(\"Sorry,\",uname,\"is already taken!\\n\")\n",
    "        else:\n",
    "            print(\"Please enter a valid character\")\n",
    "main()"
   ]
  },
  {
   "cell_type": "markdown",
   "metadata": {},
   "source": [
    "The main function above utilizes the functions you have created to simulate the login system environment. Inspect the code and play around with the funtionality to test out all of your functions. A file has already been created for you called \"database.txt\". This file contains one user with the following credentials:\n",
    "\n",
    "Username: iLoveMac\n",
    "Password: iamthebeststudent123\n",
    "\n",
    "Use the credentials to log into the system or create your own using the main function!"
   ]
  },
  {
   "cell_type": "markdown",
   "metadata": {},
   "source": [
    "----------\n",
    "## Code Legibility (6 Marks)\n",
    "Your code will be marked on commenting and code legibility.<br>\n",
    "The mark breakdown is as follows:<br>\n",
    "2 marks for using appropriate variable names that indicate what is being stored in that variable<br>\n",
    "2 marks for leaving comments on major parts of your code such as where you read the file or calculate a summation<br>\n",
    "2 marks for general legibility. The TA's should be able to understand your code without spending hours reading it. For example do not put your code in one very long line as this is hard for someone else reading your code to understand"
   ]
  },
  {
   "cell_type": "markdown",
   "metadata": {
    "colab_type": "text",
    "id": "I-H2l4mYdqMe"
   },
   "source": [
    "---\n",
    "## Reflective Questions (6 Marks)\n",
    "\n",
    "1. The createUser function requires that filename is opened in append mode in order to add a username/password combinations to filename. What will happen if filename is instead opened in write mode? Assume you are forced to use any access mode other append. Is it possible to re-write the function such that the functionality does not change? Please explain.\n",
    "\n",
    "\n",
    "2. Assume you have to write a function **validLength** that would check if the *username* and *password* are greater than 6 characters. How would you implement this function?\n",
    "\n",
    "\n",
    "3. Assume you have two functions **encrypt(password)** and **decrypt(encoded_password)**. The function **encrypt** takes a password string and returns an encoded version of the password as a string. The function **decrypt** decodes  the encoded_password string and returns the decoded password as a string. Where would you use these functions in your code if you wanted your login system to store encoded user passwords rather than raw text passwords?\n",
    "\n",
    "Please answer all questions in the cell below!"
   ]
  },
  {
   "cell_type": "markdown",
   "metadata": {
    "colab": {},
    "colab_type": "code",
    "id": "d5A_9jeadq8F"
   },
   "source": [
    "```\n",
    "DOUBLE CLICK TO EDIT THIS CELL. DO NOT DELETE QUOTATION MARKS\n",
    "\n",
    "Question 1: If datbase file in the createUser function were to write instead of append, then everytime we created a new user it it would delete all the exisiting usernames and passwords. And it will keep doing so everytime you add a new user. It is possible for this function to be re-written such that the functionality does not change. What will need to be done is, the file must be open for reading and the contents of the file saved to a string. Then we open the file again but this time is write mode where we write the new content to the end of the string.\n",
    "\n",
    "Question 2: In the createUser function is where you would use the validLength function. The validLength function would take the username, and the password and check there lengths using the len() function. This will return how many characters the username and password contain. Then we check if both lengths are greater than 6 characters, if it is we return True, if not false. Now in the createUser function you would pass this in. First it checks if validLength is true, if it is then it checks if the username entered exists or not. If all checks out then the new user will be created.  \n",
    "\n",
    "Question 3: The encrypt function would be used in the createUser function. When the user goes to create their account, before the password is written into the database file, it is sent to the encrpt function where it will be encrypted. The return value is the encrypted password and this is what will be written into the database file. The decrypt function is what will be used in the login function. When the user enters their username and password we will check the index the username is stored in to get its coresponding encrypted password, then we take this password and run it through the decrypt function, which will return the decrypted password and if it matches the password that the user entered then the login is successfull\n",
    "\n",
    "```"
   ]
  },
  {
   "cell_type": "markdown",
   "metadata": {
    "colab_type": "text",
    "id": "s7blsL23drc9"
   },
   "source": [
    "---\n",
    "## Submission\n",
    "\n",
    "Please download this notebook as a .py file (*File* > *Download as* > *Python (.py)*) and submit it to the Computing Lab 5 dropbox on avenue with the naming convention: macID_CL5.py\n",
    "\n",
    "**Make sure the final version of your lab runs without errors, otherwise, you will likely recieve zero.**\n",
    "\n",
    "This assignment is due the day after your Lab A section at 11:59 PM EST\n",
    "\n",
    "Late labs will not be accepted"
   ]
  }
 ],
 "metadata": {
  "colab": {
   "collapsed_sections": [],
   "name": "Computing 5 - Assignment",
   "provenance": []
  },
  "kernelspec": {
   "display_name": "Python 3",
   "language": "python",
   "name": "python3"
  },
  "language_info": {
   "codemirror_mode": {
    "name": "ipython",
    "version": 3
   },
   "file_extension": ".py",
   "mimetype": "text/x-python",
   "name": "python",
   "nbconvert_exporter": "python",
   "pygments_lexer": "ipython3",
   "version": "3.8.3"
  }
 },
 "nbformat": 4,
 "nbformat_minor": 1
}
