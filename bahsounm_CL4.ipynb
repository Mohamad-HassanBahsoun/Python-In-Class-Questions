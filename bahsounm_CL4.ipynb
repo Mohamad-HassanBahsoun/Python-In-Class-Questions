{
 "cells": [
  {
   "cell_type": "markdown",
   "metadata": {
    "colab_type": "text",
    "id": "qwLGahydX5SB"
   },
   "source": [
    "# Computing 4 Assignment\n"
   ]
  },
  {
   "cell_type": "markdown",
   "metadata": {
    "colab_type": "text",
    "id": "7ti8TYwYX5NI"
   },
   "source": [
    "---\n",
    "## Background\n",
    "\n",
    "In this assignment you will be implementing a product verification system for a company that manufactures smartphones. Your system will determine if a given smartphone passed quality assurance testing in order for the smartphone to be deemed sellable on the market.\n",
    "\n",
    "All smartphones undergo two quality assurance tests, namely **T1** and **T2**. The product and testing information will be provided to your system in a **list of lists** where each sub-list represents a unique product accompanied with its T1 and T2 test scores and test dates. Each sub-list has the following format:\n",
    "\n",
    "<br>\n",
    "\\begin{align}\n",
    "  \\texttt{[‘serialNum’, [‘T1Score’,‘T1Date’], [‘T2Score’,’T2Date’]]}\\tag{1}\n",
    "\\end{align}\n",
    "<br>\n",
    "\n",
    "Each entry in the sub-list is explained below:\n",
    "\n",
    "|   |   |\n",
    "|---|:--|\n",
    "|**serialNum** |A string with length 8 that represents the smartphone's serial number.   |\n",
    "|**T1Score**   |A string representing the T1 test score.   |\n",
    "|**T1Date**    |A string representing the T1 test date (YYYY-MM-DD)   |\n",
    "|**T2Score**   |A string representing the T2 test score.   |\n",
    "|**T2Date**    |A string representing the T2 test date (YYYY-MM-DD)   |\n",
    "\n",
    "\n",
    "The following list of lists provides an example of data used by your system. Each sub-list follows the format given in (1). There are 3 products in this example:\n",
    "\n",
    "```\n",
    "smartphones = [\n",
    "['BX001321',['0.99','2019-01-03'],['0.71','2019-09-21']],\n",
    "['GX021629',['0.88','2019-08-06'],['0.67','2019-12-11']],\n",
    "['BX101129',['0.95','2019-05-22'],['0.92', '2019-07-10']]]\n",
    "```\n",
    "\n",
    "<br>\n",
    "\n",
    "The company manufactures two versions of smartphones, namely **BX** and **GX**. The version of the smartphone can be identified by the first two characters of its serial number. Each smartphone is considered a pass on quality assurance testing based on criteria that its version must meet. The following table depicts this set of criteria for each version:\n",
    "\n",
    "| Smartphone Version |  T1 Criteria | T2 Criteria  |\n",
    "|---|---|:--|\n",
    "| **GX**  | - A score of 0.8 or greater  | - A score of 0.9 or greater  |\n",
    "| **BX**  | - A score of 0.7 or greater  |  - If the test was conducted in **January** or **February**: A score of 0.98 or greater<br>- If the test was conducted in **March**: A score of 0.9 or greater<br>- If the test was conducted in **April**: A score of 0.87 or greater<br>- If the test was conducted in any other month: A score of 0.85 or greater|\n",
    "\n",
    "\\begin{align}\n",
    "  \\texttt{Table 1}\n",
    "\\end{align}\n",
    "\n",
    "<br>\n",
    "\n",
    "Note that a smartphone must satisfy T1 **AND** T2 criteria to be considered a pass for quality assurance. For example, GX smartphones must have a T1 score of 0.8 or greater AND have a T2 score of 0.9 or greater. \n",
    "\n",
    "Given the following information, your task is to generate a list of products that passed quality assurance testing. The steps in the requirements section will help you achieve this task."
   ]
  },
  {
   "cell_type": "markdown",
   "metadata": {
    "colab_type": "text",
    "id": "F0rMpqpbbe6b"
   },
   "source": [
    "---\n",
    "\n",
    "## Given\n",
    "The following functions have been given to you and are expected to be used by you in the implementations of the 3 required functions.\n",
    "### DO NOT MODIFY THESE FUNCTIONS\n",
    "\n",
    "1. The first function given to you is **getProductVersion**(*testInfo*):\n",
    "  - ***testInfo***: A *list* containing product testing information in the form of (1)\n",
    "  - **Return**: A *string* denoting the product version for the smartphone in the list testInfo. (either ‘BX’ or ‘GX’)\n",
    "\n",
    "  \n",
    "2. The second given function is **getTestScores**(*testInfo*):\n",
    "  - ***testInfo***: A *list* containing product testing information in the form of (1)\n",
    "  - **Return**: A list of length 2 where the first element is the product’s T1 score as a *float*, and the second element in the list is the product’s T2 score as a *float*.\n",
    "\n",
    "\n",
    "3. The final function given to you is **getTestMonths**(*testInfo*):\n",
    "  - ***testInfo***: A *list* containing product testing information in the form of (1)\n",
    "  - **Return**: A list of length 2 where the first element the T1 test month as an *int*, and the second element is the T2 test month as an *int*.\n",
    "\n",
    "---\n",
    "\n",
    "## Requirements\n",
    "The requirements of the program are given below. Please ensure that your functions have the EXACT naming as specified! Failure to do so will result in lost marks.\n",
    "\n",
    "1. Define a function **passedTestsGX**(*testInfoGX*):\n",
    "  - ***testInfoGX***: A *list* containing product testing information in the form of (1). The list contains a smartphone that is version GX.\n",
    "  - **Return**: A *Boolean* denoting whether or not the GX product met the criteria given in Table 1. (True if the product met the criteria, otherwise false) <br>*(Hint: Use nested if statements and your **getTestScores** function.)*\n",
    "\n",
    "\n",
    "2. Define a function **passedTestsBX**(*testInfoBX*):\n",
    "  - ***testInfoBX***: A *list* containing product testing information in the form of (1). The list contains a smartphone that is version BX.\n",
    "  - **Return**: A *Boolean* denoting whether or not the BX product met the criteria given in Table 1. (True if the product met the criteria, otherwise false)\n",
    "\n",
    "\n",
    "3. Define a function **determinePassedProducts**(products):\n",
    "  - ***products***: A *list of lists* where each entry is in the form of (1).\n",
    "  - **Return**: A *list* of serial numbers of all products that passed quality assurance testing. <br>*(Hint: Use a for loop, an if statement, and the **getProductVersion**, **passedTestsGX** and **passedTestsBX** functions.)*"
   ]
  },
  {
   "cell_type": "markdown",
   "metadata": {
    "colab_type": "text",
    "id": "0sCzEGhfc6ln"
   },
   "source": [
    "---\n",
    "## Implementation\n",
    "Please define all functions in the cell below"
   ]
  },
  {
   "cell_type": "code",
   "execution_count": 1,
   "metadata": {
    "colab": {},
    "colab_type": "code",
    "id": "NhNJnwTQYBQ2"
   },
   "outputs": [
    {
     "name": "stdout",
     "output_type": "stream",
     "text": [
      "BX\n",
      "[0.99, 0.71]\n",
      "[1, 9]\n"
     ]
    }
   ],
   "source": [
    "# DO NOT MODIFY THESE FUNCTIONS\n",
    "\n",
    "# Get smartphone version of a product\n",
    "def getProductVersion(testInfo):\n",
    "    version = testInfo[0][0:2] # Extract first two characters of the serialNum to get the smartphone version\n",
    "                               # We need the first element so [0] and then we need its first 2 characters so [0:2] splice\n",
    "    return version             # Returns either \"BX\" or \"GX\"\n",
    "\n",
    "# Get test scores from a product\n",
    "def getTestScores(testInfo):\n",
    "    scores = []                       # Empty list to add the scores to\n",
    "    for i in range(1,3):              # Range creates the sequence [1, 2]\n",
    "        score = float(testInfo[i][0]) # On first loop, get the second element [1] and then that list's first element[0]\n",
    "        scores.append(score)          # The second element is in the form of [‘𝚃𝟷𝚂𝚌𝚘𝚛𝚎’,‘𝚃𝟷𝙳𝚊𝚝𝚎’] so its also a list\n",
    "                                      # On the second loop i = 2 so we get the T2Score as well and convert both to floats\n",
    "                                      # Put both scores in a list and return that from the function\n",
    "                \n",
    "    return scores                     # Returns [𝚃𝟷𝚂𝚌𝚘𝚛𝚎, T2Score] as floats in a list\n",
    "\n",
    "# Get test dates from a product\n",
    "def getTestMonths(testInfo):\n",
    "    months = []                         # Empty list to add the months to\n",
    "    for i in range(1,3):                # Range creates the sequence [1, 2]\n",
    "        date = testInfo[i][1]           # Similar to the above function, but now we extract each lists' second element  \n",
    "        month = int(date.split('-')[1]) # The extracted elements are in the shape of 'YYYY-MM-DD'\n",
    "        months.append(int(month))       # So we split at the -, take the middle element, and convert to int\n",
    "                                        # Also add the months to a list and return that list\n",
    "            \n",
    "    return months                       # Returns [𝚃1 Month, T2 Month] as integers in a list\n",
    "\n",
    "\n",
    "\n",
    "#You can see what the functions return by using these statements below\n",
    "\n",
    "\n",
    "someList = ['BX001321',['0.99','2019-01-03'],['0.71','2019-09-21']]\n",
    "print(getProductVersion(someList))\n",
    "print(getTestScores(someList))\n",
    "print(getTestMonths(someList))\n",
    "\n",
    "\n",
    "\n",
    "# ENTER YOUR SOLUTIONS BELOW HERE\n",
    "\n",
    "# This Function is used to determine if a GX product has passed the tests\n",
    "def passedTestsGX(testInfoGX):\n",
    "    T1_score,T2_score = getTestScores(testInfoGX)\n",
    "    \"\"\"\n",
    "    Here i am checking if the test scores obtained follow the testing rules\n",
    "    if so, then passed is True, if not, passed is False\n",
    "    \"\"\"\n",
    "    if T1_score >=0.8 and T2_score>=0.9:\n",
    "        passed = True\n",
    "    else:\n",
    "        passed = False\n",
    "    return passed\n",
    "\n",
    "\n",
    "# This Function is used to determine if a BX product has passed the tests\n",
    "def passedTestsBX(testInfoBX):\n",
    "    T1_score,T2_score = getTestScores(testInfoBX)\n",
    "    months = getTestMonths(testInfoBX)\n",
    "    T2_month = months[1]\n",
    "    passed = False\n",
    "    \"\"\"\n",
    "    Here for BX products we need to check the month of T2, so after\n",
    "    getting the month i check all conditions placed on each month, and\n",
    "    if it passes, passed is True, if not, passed is False\n",
    "    \"\"\"\n",
    "    if T1_score >= 0.7:\n",
    "        \"\"\"\n",
    "        Here I am going to check the test scores, and see whether they\n",
    "        passed or not based on the month the test was taken (for T2 only)\n",
    "        \"\"\"\n",
    "        if T2_month == 1 or T2_month==2:\n",
    "            if T2_score >= 0.98:\n",
    "                passed = True\n",
    "        elif T2_month == 3:\n",
    "            if T2_score>=0.9:\n",
    "                passed = True\n",
    "        elif T2_month == 4:\n",
    "            if T2_score >=0.87:\n",
    "                passed = True\n",
    "        else:\n",
    "            if T2_score >=0.85:\n",
    "                passed = True\n",
    "    return passed\n",
    "    \n",
    "# This Function is used to determine the serial numbers of phones that passed \n",
    "def determinePassedProducts(products):\n",
    "    \"\"\"\n",
    "    Here I am making an empty list and am going to use a for loop\n",
    "    to go through the product list, check the version, and if\n",
    "    it passes the test (using the function defined earlier), i am going \n",
    "    to take the serial number and append it to the list\n",
    "    \"\"\"\n",
    "    pass_prod = []\n",
    "    for i in products:\n",
    "        version = getProductVersion(i)\n",
    "        if version == \"GX\":\n",
    "            if passedTestsGX(i):\n",
    "                pass_prod.append(i[0])\n",
    "        elif version == \"BX\":\n",
    "            if passedTestsBX(i):\n",
    "                pass_prod.append(i[0])\n",
    "    return pass_prod\n",
    "\n",
    "            "
   ]
  },
  {
   "cell_type": "markdown",
   "metadata": {
    "colab_type": "text",
    "id": "WgMyyo-vdVT_"
   },
   "source": [
    "---\n",
    "## Testing\n",
    "\n",
    "The following code creates a main function that you can use to test out your code once you have implemented your functions.\n",
    "\n",
    "```\n",
    "def main():\n",
    "  products = [['GX010365', ['0.8', '2019-01-03'], ['0.86', '2019-04-10']],\n",
    "              ['BX041085', ['0.77', '2019-05-03'], ['0.86', '2019-09-13']],\n",
    "              ['BX031112', ['0.7', '2019-01-02'], ['0.97', '2019-02-13']],\n",
    "              ['BX210529', ['0.68', '2019-03-10'], ['0.86', '2019-11-15']],\n",
    "              ['GX031153', ['0.88', '2019-01-23'], ['0.91', '2019-04-11']],\n",
    "              ['BX601829', ['0.73', '2019-03-26'], ['0.90', '2019-04-28']],\n",
    "              ['BX481436', ['0.89', '2019-01-03'], ['0.99', '2019-01-10']],\n",
    "              ['GX301320', ['0.81', '2019-05-18'], ['0.92', '2019-05-13']]]\n",
    "  passed_products = determinePassedProducts(products)\n",
    "  print(passed_products)\n",
    "main()\n",
    "```\n",
    "\n",
    "Copy the code and paste it into the cell below. Run the cell to verify that your code works correctly with the provided input. The following products should be printed after the main() function above is run:\n",
    "\n",
    ">['BX041085', 'GX031153', 'BX601829', 'BX481436', 'GX301320']\n",
    "\n",
    "\n",
    "\n",
    "\n",
    "\n",
    "\n"
   ]
  },
  {
   "cell_type": "code",
   "execution_count": 2,
   "metadata": {
    "colab": {},
    "colab_type": "code",
    "id": "YVAvbxoMdcuj"
   },
   "outputs": [
    {
     "name": "stdout",
     "output_type": "stream",
     "text": [
      "['BX041085', 'GX031153', 'BX601829', 'BX481436', 'GX301320']\n"
     ]
    }
   ],
   "source": [
    "# PASTE MAIN FUNCTION HERE\n",
    "def main():\n",
    "  products = [['GX010365', ['0.8', '2019-01-03'], ['0.86', '2019-04-10']],\n",
    "              ['BX041085', ['0.77', '2019-05-03'], ['0.86', '2019-09-13']],\n",
    "              ['BX031112', ['0.7', '2019-01-02'], ['0.97', '2019-02-13']],\n",
    "              ['BX210529', ['0.68', '2019-03-10'], ['0.86', '2019-11-15']],\n",
    "              ['GX031153', ['0.88', '2019-01-23'], ['0.91', '2019-04-11']],\n",
    "              ['BX601829', ['0.73', '2019-03-26'], ['0.90', '2019-04-28']],\n",
    "              ['BX481436', ['0.89', '2019-01-03'], ['0.99', '2019-01-10']],\n",
    "              ['GX301320', ['0.81', '2019-05-18'], ['0.92', '2019-05-13']]]\n",
    "  passed_products = determinePassedProducts(products)\n",
    "  print(passed_products)\n",
    "main()"
   ]
  },
  {
   "cell_type": "markdown",
   "metadata": {
    "colab_type": "text",
    "id": "0eGVQmy5dhDe"
   },
   "source": [
    "Note that your code is not necessarily correct if your output matches the expected output. Your code will be checked against multiple inputs for correctness. The cell above it not graded, so feel free to modify the code as you wish!"
   ]
  },
  {
   "cell_type": "markdown",
   "metadata": {
    "colab_type": "text",
    "id": "I-H2l4mYdqMe"
   },
   "source": [
    "---\n",
    "## Reflective Questions\n",
    "\n",
    "1. Is it necessary to use a for loop in the **getTestScores** and **getTestMonths** functions? Why or why not? Is it beneficial to use a for loop? Why or why not? How would you handle the situation where the number of quality assurance tests is unknown between each product?\n",
    "\n",
    "2. It is highly likely that you used a for loop in the **determinePassedProducts** function. Is it possible to use a while loop? Is there a benefit to using a while loop over a for loop? If not, can you think of a scenario where a while loop would be more beneficial?\n",
    "\n",
    "Please answer all questions in the cell below!"
   ]
  },
  {
   "cell_type": "markdown",
   "metadata": {
    "colab": {},
    "colab_type": "code",
    "id": "d5A_9jeadq8F"
   },
   "source": [
    "```\n",
    "DOUBLE CLICK TO EDIT THIS CELL. DO NOT DELETE QUOTATION MARKS\n",
    "\n",
    "Question 1: It does not have to be a for loop, there are other methods of obtaing the same results. it is very beneficial for us to use a for loop becuase it makes the code look cleaner, run better, and its easier to use. since the range is unknown, i know that the first index ([0]) is the serial number so in the for loop i would start at 1 and then i would go to the length of the list.\n",
    "\n",
    "Question 2: You could use a while loop instead of a for loop. You could set the while loop equal to the length of the list and then slowly increase by 1 util you reach the end of the list. I guess the benefit to using a while loop is that you are actually able to see whats happening (makes it easier to read/go through). You are going to have to write out going into the list and checking whats inside, rather than a for loop doing it for you.\n",
    "\n",
    "```"
   ]
  },
  {
   "cell_type": "markdown",
   "metadata": {
    "colab_type": "text",
    "id": "s7blsL23drc9"
   },
   "source": [
    "---\n",
    "## Submission\n",
    "\n",
    "Please download this notebook as a .py file (*File* > *Download as* > *Python (.py)*) and submit it to the Computing Lab 4 dropbox on avenue with the naming convention: macID_CL4.py\n",
    "\n",
    "**Make sure the final version of your lab runs without errors, otherwise, you will likely recieve zero.**\n",
    "\n",
    "This assignment is due the day after your Lab A section at 11:59 PM EST.\n",
    "\n",
    "Late labs will not be accepted!"
   ]
  },
  {
   "cell_type": "code",
   "execution_count": null,
   "metadata": {},
   "outputs": [],
   "source": []
  },
  {
   "cell_type": "code",
   "execution_count": null,
   "metadata": {},
   "outputs": [],
   "source": []
  }
 ],
 "metadata": {
  "colab": {
   "collapsed_sections": [],
   "name": "Computing 4 - Assignment",
   "provenance": []
  },
  "kernelspec": {
   "display_name": "Python 3",
   "language": "python",
   "name": "python3"
  },
  "language_info": {
   "codemirror_mode": {
    "name": "ipython",
    "version": 3
   },
   "file_extension": ".py",
   "mimetype": "text/x-python",
   "name": "python",
   "nbconvert_exporter": "python",
   "pygments_lexer": "ipython3",
   "version": "3.8.3"
  }
 },
 "nbformat": 4,
 "nbformat_minor": 1
}
