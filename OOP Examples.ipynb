{
 "cells": [
  {
   "cell_type": "code",
   "execution_count": 14,
   "metadata": {},
   "outputs": [
    {
     "name": "stdout",
     "output_type": "stream",
     "text": [
      "200 200\n",
      "(200, 200)\n",
      "(300, 100)\n"
     ]
    }
   ],
   "source": [
    "class Bot:\n",
    "    \n",
    "    def __init__(self,x,y):\n",
    "        self.x = x\n",
    "        self.y = y\n",
    "    \n",
    "    def current_pos(self):\n",
    "        return self.x,self.y\n",
    "    \n",
    "    def move(self, x_move,y_move):\n",
    "        self.x = self.x + x_move\n",
    "        self.y = self.y + y_move\n",
    "        \n",
    "bot1 = Bot(200,200)\n",
    "print(bot1.x,bot1.y)\n",
    "print(bot1.current_pos())\n",
    "bot1.move(100,-100)\n",
    "print(bot1.current_pos())\n"
   ]
  },
  {
   "cell_type": "code",
   "execution_count": 19,
   "metadata": {},
   "outputs": [
    {
     "name": "stdout",
     "output_type": "stream",
     "text": [
      "OP Names 10000000\n",
      "BC Names 100230000\n",
      "NS Names 10005620000\n"
     ]
    }
   ],
   "source": [
    "class Book:\n",
    "    def __init__(self, author,title,pages):\n",
    "        self.author = author\n",
    "        self.title = title\n",
    "        self.pages = pages\n",
    "    def print_book(self):\n",
    "        print(self.title,self.author,self.pages)\n",
    "        \n",
    "class Library:\n",
    "    def __init__(self,books):\n",
    "        self.books = books\n",
    "        \n",
    "    def print_library(self):\n",
    "        for book in self.books:\n",
    "            book.print_book()\n",
    "\n",
    "a = Book(\"Names\",\"OP\",10000000)\n",
    "b = Book(\"Names\",\"BC\",100230000)\n",
    "c = Book(\"Names\",\"NS\",10005620000)\n",
    "\n",
    "library = Library([a,b,c])\n",
    "library.print_library()"
   ]
  },
  {
   "cell_type": "code",
   "execution_count": 25,
   "metadata": {},
   "outputs": [
    {
     "name": "stdout",
     "output_type": "stream",
     "text": [
      "Student 1 GPA =  9.0\n"
     ]
    }
   ],
   "source": [
    "class Transcript:\n",
    "    def __init__(self,grades):\n",
    "        self.grades = grades\n",
    "    def cal_gpa(self):\n",
    "        total = 0\n",
    "        for grade in self.grades:\n",
    "            if (grade >= 90): total += 12\n",
    "            elif (grade >= 80): total += 11\n",
    "            elif (grade >= 70): total += 10\n",
    "            elif (grade >= 60): total += 9\n",
    "            elif (grade >= 50): total += 8\n",
    "            elif (grade >= 40): total += 7\n",
    "            elif (grade >= 30): total += 6\n",
    "            elif (grade >= 20): total += 5\n",
    "            elif (grade >= 10): total += 4\n",
    "            else: total +=1\n",
    "        return total/len(self.grades)\n",
    "    \n",
    "student1 = Transcript([98,67,89,73,42,29])\n",
    "print(\"Student 1 GPA = \",student1.cal_gpa())"
   ]
  },
  {
   "cell_type": "code",
   "execution_count": null,
   "metadata": {},
   "outputs": [],
   "source": []
  }
 ],
 "metadata": {
  "kernelspec": {
   "display_name": "Python 3",
   "language": "python",
   "name": "python3"
  },
  "language_info": {
   "codemirror_mode": {
    "name": "ipython",
    "version": 3
   },
   "file_extension": ".py",
   "mimetype": "text/x-python",
   "name": "python",
   "nbconvert_exporter": "python",
   "pygments_lexer": "ipython3",
   "version": "3.8.3"
  }
 },
 "nbformat": 4,
 "nbformat_minor": 4
}
