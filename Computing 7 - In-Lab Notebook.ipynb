{
 "cells": [
  {
   "cell_type": "markdown",
   "metadata": {
    "colab_type": "text",
    "id": "mNuvmht9rYs4"
   },
   "source": [
    "# __Computing Lab *7*__ - _Exceptional Algorithm Design_\n",
    "\n",
    "This week we'll be covering:\n",
    "*   Algorithm design\n",
    "*   Exceptions\n",
    "*   Exception handling\n",
    "\n",
    "---\n",
    "\n",
    "\n",
    "## Pseudocode\n",
    "\n",
    "Implementing an algorithm in Python requires us to think about both the \n",
    "algorithm (i.e. the steps) ***and*** how to implement the steps (i.e. the code \n",
    "for each step). "
   ]
  },
  {
   "cell_type": "code",
   "execution_count": null,
   "metadata": {
    "colab": {
     "base_uri": "https://localhost:8080/",
     "height": 34
    },
    "colab_type": "code",
    "id": "npBVXuU3LBjg",
    "outputId": "cf7b6e8b-10b9-4e3e-d8a9-81d9d725bb15"
   },
   "outputs": [],
   "source": [
    "#Write pseudocode for a program that takes a list of strings in the form \"section-studentnum-grade%\"\n",
    "#The program should determine if the grade is equal to or greater than 80%\n",
    "#If it is, then add the student number to a list and keep track of the number of students from each section that meet this requirement\n",
    "#Print the list and number of students from each section\n",
    "#Then turn the pseudocode into python code\n",
    "\n",
    "\n",
    "input_list = [\"01-1003324-71.5%\",\"02-1001425-99.5%\",\"02-1009980-86.0%\",\"01-1001480-84.0%\",\"03-1005244-87.0%\", \"01-1103324-76.5%\",\"02-1221425-29.5%\",\"02-1003480-82.0%\",\"01-1002430-64.0%\",\"03-1335244-87.0%\"]\n"
   ]
  },
  {
   "cell_type": "markdown",
   "metadata": {
    "colab_type": "text",
    "id": "dr69Wto_LZzS"
   },
   "source": [
    "### Using the pseudocode you just made, create a functional program in the same cell above"
   ]
  },
  {
   "cell_type": "markdown",
   "metadata": {
    "colab_type": "text",
    "id": "zp34NkPELDL7"
   },
   "source": [
    "---\n",
    "\n",
    "## Catching Exceptions\n",
    "\n",
    "Let's cover an example of catching any and all exceptions that occur in our program"
   ]
  },
  {
   "cell_type": "code",
   "execution_count": null,
   "metadata": {
    "colab": {},
    "colab_type": "code",
    "id": "8awB9Rt7L0Oa"
   },
   "outputs": [],
   "source": [
    "#import sys for later\n",
    "import sys\n",
    "my_list = ['0', 0, [0], 5, 10.0]\n",
    "\n"
   ]
  },
  {
   "cell_type": "markdown",
   "metadata": {},
   "source": [
    "### Now the same example as above, but we'll handle each exception that we saw separately in their own EXCEPT block"
   ]
  },
  {
   "cell_type": "code",
   "execution_count": null,
   "metadata": {},
   "outputs": [],
   "source": [
    "my_list = ['0', 0, [0], 5, 10.0]\n",
    "\n"
   ]
  },
  {
   "cell_type": "markdown",
   "metadata": {
    "colab_type": "text",
    "id": "BS4kIXicPEX2"
   },
   "source": [
    "---\n",
    "\n",
    "## Raising Our Own Exceptions\n",
    "\n",
    "Sometimes you'll want to intentionally throw an exception in a program. Some instances include ensuring an input is a certain type or looking for bugs when testing your code"
   ]
  },
  {
   "cell_type": "code",
   "execution_count": null,
   "metadata": {},
   "outputs": [],
   "source": [
    "#let's print the reciprocal of the number inputted by the user\n",
    "#let's enforce that this number should be even\n",
    "\n"
   ]
  },
  {
   "cell_type": "markdown",
   "metadata": {},
   "source": [
    "### Try... Finally\n",
    "\n",
    "Another quick thing you may want to know about are Try... Finally blocks"
   ]
  },
  {
   "cell_type": "code",
   "execution_count": null,
   "metadata": {},
   "outputs": [],
   "source": [
    "#Using our specific exception handling example\n",
    "\n",
    "\n",
    "\n",
    "\n",
    "#if there was some code we wanted to be CERTAIN would run at the end of this TRY...EXCEPT set\n",
    "#(meaning for this case at the end of every iteration of this loop)\n",
    "#we could include a FINALLY block\n"
   ]
  },
  {
   "cell_type": "markdown",
   "metadata": {},
   "source": [
    "---\n",
    "## Test Plans\n",
    "\n",
    "Let's create a test plan for a simple if-else statement.\n",
    "\n",
    "if the following condition is true, execute some code, else execute some other code\n",
    "\n",
    "condition: *bool1 == True OR bool2 == True and num >= 18*\n",
    "\n",
    "The following test plan covers ALL cases for these variables for the program below. You particularly want to look out for boundary cases when making test cases"
   ]
  },
  {
   "cell_type": "markdown",
   "metadata": {},
   "source": [
    "| bool1          | bool2        | num          | Expected Out         | Actual Out            | Pass/Fail     |\n",
    "| :------------- | :----------: | -----------: | :-------------       | :----------:          | -----------:  |\n",
    "| True           | True         | 17           | \"Conditions Met\"     | \"Conditions Met\"      | Pass          | \n",
    "| True           | True         | 18           | \"Conditions Met\"     | \"Conditions Met\"      | Pass          |\n",
    "| True           | True         | 19           | \"Conditions Met\"     | \"Conditions Met\"      | Pass          |\n",
    "| True           | False        | 17           | \"Conditions Met\"     | \"Conditions Met\"      | Pass          | \n",
    "| True           | False        | 18           | \"Conditions Met\"     | \"Conditions Met\"      | Pass          |\n",
    "| True           | False        | 19           | \"Conditions Met\"     | \"Conditions Met\"      | Pass          |\n",
    "| False          | True         | 17           | \"Conditions Not Met\" | \"Conditions Not Met\"  | Pass          | \n",
    "| False          | True         | 18           | \"Conditions Met\"     | \"Conditions Not Met\"  | Fail          |\n",
    "| False          | True         | 19           | \"Conditions Met\"     | \"Conditions Met\"      | Pass          |\n",
    "| False          | False        | 17           | \"Conditions Not Met\" | \"Conditions Not Met\"  | Pass          | \n",
    "| False          | False        | 18           | \"Conditions Not Met\" | \"Conditions Not Met\"  | Pass          |\n",
    "| False          | False        | 19           | \"Conditions Not Met\" | \"Conditions Not Met\"  | Pass          |"
   ]
  },
  {
   "cell_type": "code",
   "execution_count": null,
   "metadata": {},
   "outputs": [],
   "source": [
    "bypass = False\n",
    "ID = False\n",
    "age = 19\n",
    "\n",
    "if bypass or ID and age > 18:\n",
    "    print(\"Conditions Met\")\n",
    "else:\n",
    "    print(\"Conditions Not Met\")"
   ]
  },
  {
   "cell_type": "markdown",
   "metadata": {
    "colab_type": "text",
    "id": "w2UWQhit1z0p"
   },
   "source": [
    "---\n",
    "# Breakout Problem"
   ]
  },
  {
   "cell_type": "markdown",
   "metadata": {},
   "source": [
    "Complete the function *get_average* which returns the average value from a list of numbers. If an error occurs, return the following strings based on the error:\n",
    "- TypeError: Return \"TError\"\n",
    "- ZeroDivisionError: Return \"DError\"\n",
    "- Any other Error: Return \"OError\"\n",
    "\n",
    "For example given:\n",
    "```\n",
    "nums = [1,2,3]\n",
    "```\n",
    "The function call, get_average(nums) will return 2.0.\n",
    "\n",
    "\n",
    "\n",
    "After you have implemented your code, come up with 3 test cases:\n",
    "- A normal case\n",
    "- A test case to cause the function to return \"TError\"\n",
    "- A test case to cause the function to return \"DError\""
   ]
  },
  {
   "cell_type": "code",
   "execution_count": 15,
   "metadata": {},
   "outputs": [],
   "source": [
    "# YOUR CODE HERE\n",
    "def get_average(nums):\n",
    "    sums = 0\n",
    "    try:\n",
    "        for i in nums:\n",
    "            sums = sums + i\n",
    "            print(sums)\n",
    "        return sums/len(nums)\n",
    "    except ZeroDivisionError:\n",
    "        return \"DError\"\n",
    "    except TypeError:\n",
    "        return \"TError\"\n",
    "    except:\n",
    "        return \"OError\""
   ]
  },
  {
   "cell_type": "code",
   "execution_count": 14,
   "metadata": {},
   "outputs": [
    {
     "name": "stdout",
     "output_type": "stream",
     "text": [
      "1\n",
      "3\n",
      "6\n",
      "10\n",
      "10\n",
      "2.0\n",
      " \n",
      "1\n",
      "3\n",
      "6\n",
      "10\n",
      "TError\n",
      " \n"
     ]
    },
    {
     "ename": "ZeroDivisionError",
     "evalue": "division by zero",
     "output_type": "error",
     "traceback": [
      "\u001b[1;31m---------------------------------------------------------------------------\u001b[0m",
      "\u001b[1;31mZeroDivisionError\u001b[0m                         Traceback (most recent call last)",
      "\u001b[1;32m<ipython-input-14-e6e01b6d0320>\u001b[0m in \u001b[0;36m<module>\u001b[1;34m\u001b[0m\n\u001b[0;32m      7\u001b[0m \u001b[0mprint\u001b[0m\u001b[1;33m(\u001b[0m\u001b[1;34m\" \"\u001b[0m\u001b[1;33m)\u001b[0m\u001b[1;33m\u001b[0m\u001b[1;33m\u001b[0m\u001b[0m\n\u001b[0;32m      8\u001b[0m \u001b[0mnums\u001b[0m \u001b[1;33m=\u001b[0m \u001b[1;33m[\u001b[0m\u001b[1;33m]\u001b[0m\u001b[1;33m\u001b[0m\u001b[1;33m\u001b[0m\u001b[0m\n\u001b[1;32m----> 9\u001b[1;33m \u001b[0mprint\u001b[0m\u001b[1;33m(\u001b[0m\u001b[0mget_average\u001b[0m\u001b[1;33m(\u001b[0m\u001b[0mnums\u001b[0m\u001b[1;33m)\u001b[0m\u001b[1;33m)\u001b[0m\u001b[1;33m\u001b[0m\u001b[1;33m\u001b[0m\u001b[0m\n\u001b[0m",
      "\u001b[1;32m<ipython-input-8-8ba3ecbe1de8>\u001b[0m in \u001b[0;36mget_average\u001b[1;34m(nums)\u001b[0m\n\u001b[0;32m     12\u001b[0m     \u001b[1;32mexcept\u001b[0m\u001b[1;33m:\u001b[0m\u001b[1;33m\u001b[0m\u001b[1;33m\u001b[0m\u001b[0m\n\u001b[0;32m     13\u001b[0m         \u001b[1;32mreturn\u001b[0m \u001b[1;34m\"OError\"\u001b[0m\u001b[1;33m\u001b[0m\u001b[1;33m\u001b[0m\u001b[0m\n\u001b[1;32m---> 14\u001b[1;33m     \u001b[1;32mreturn\u001b[0m \u001b[0msums\u001b[0m\u001b[1;33m/\u001b[0m\u001b[0mlen\u001b[0m\u001b[1;33m(\u001b[0m\u001b[0mnums\u001b[0m\u001b[1;33m)\u001b[0m\u001b[1;33m\u001b[0m\u001b[1;33m\u001b[0m\u001b[0m\n\u001b[0m",
      "\u001b[1;31mZeroDivisionError\u001b[0m: division by zero"
     ]
    }
   ],
   "source": [
    "# YOUR TEST CASES HERE\n",
    "nums = [1,2,3,4,0]\n",
    "print(get_average(nums))\n",
    "print(\" \")\n",
    "nums = [1,2,3,4,\"hello\"]\n",
    "print(get_average(nums))\n",
    "print(\" \")\n",
    "nums = []\n",
    "print(get_average(nums))"
   ]
  },
  {
   "cell_type": "markdown",
   "metadata": {
    "colab_type": "text",
    "id": "C1lpEFPW1w_d"
   },
   "source": [
    "---\n",
    "# Additional Resources\n",
    "\n",
    "[Cornell CS482: Pseudocode Guidelines](http://www.cs.cornell.edu/courses/cs482/2003su/handouts/pseudocode.pdf)\n",
    "\n",
    "[Wikipedia: Flowchart](https://en.wikipedia.org/wiki/Flowchart)\n",
    "\n",
    "[draw.io](https://www.draw.io/)\n",
    "\n",
    "[w3 Schools: Python Try Except](https://www.w3schools.com/python/python_try_except.asp)\n"
   ]
  }
 ],
 "metadata": {
  "colab": {
   "collapsed_sections": [],
   "name": "Computing Pre-Lab Notebook #7",
   "provenance": []
  },
  "kernelspec": {
   "display_name": "Python 3",
   "language": "python",
   "name": "python3"
  },
  "language_info": {
   "codemirror_mode": {
    "name": "ipython",
    "version": 3
   },
   "file_extension": ".py",
   "mimetype": "text/x-python",
   "name": "python",
   "nbconvert_exporter": "python",
   "pygments_lexer": "ipython3",
   "version": "3.8.3"
  }
 },
 "nbformat": 4,
 "nbformat_minor": 1
}
