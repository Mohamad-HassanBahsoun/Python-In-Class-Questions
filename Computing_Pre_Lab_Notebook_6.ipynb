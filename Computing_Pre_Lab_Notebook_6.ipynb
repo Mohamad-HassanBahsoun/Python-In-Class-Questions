{
 "cells": [
  {
   "cell_type": "markdown",
   "metadata": {
    "id": "QNa8iArXtPq4"
   },
   "source": [
    "# __Computing Pre-Lab *6*__ - _Nesting and testing_\n",
    "\n",
    "This week we'll be covering:\n",
    "*   Boolean logic operators\n",
    "*   Nested control structures\n",
    "*   Test plans\n",
    "\n",
    "\n",
    "\n",
    "\n",
    "\n"
   ]
  },
  {
   "cell_type": "markdown",
   "metadata": {
    "id": "kHRA4jfDCSfs"
   },
   "source": [
    "---\n",
    "\n",
    "## 6.1 Boolean Logic Operators\n",
    "\n",
    "Boolean logic operators **and**, **or** and **not** accept boolean values as operands and produce a boolean value result.  \n",
    "\n",
    "We often use boolean operators to help create more complex conditional statements. \n",
    "\n",
    "## 6.1.1 Not Operator\n",
    "\n",
    "The **not operator** accepts a single boolean operand and flips the value, turning True into False, and False into True, as in the below truth table.  \n",
    "\n",
    "A **truth table** contains one column for each variable (i.e. p, q) and one column that displays all possible results of a boolean expression given all possible combinations of variable values. \n",
    "\n",
    "p | not p\n",
    "--- | ---\n",
    "True | False\n",
    "False | True"
   ]
  },
  {
   "cell_type": "code",
   "execution_count": 1,
   "metadata": {
    "colab": {
     "base_uri": "https://localhost:8080/",
     "height": 51
    },
    "id": "1kAaaYcPu9Qe",
    "outputId": "a0f6ca02-003c-4b8e-a17c-c7601cdbf94b"
   },
   "outputs": [
    {
     "name": "stdout",
     "output_type": "stream",
     "text": [
      "False\n",
      "True\n"
     ]
    }
   ],
   "source": [
    "print( not True )\n",
    "print( not False )"
   ]
  },
  {
   "cell_type": "markdown",
   "metadata": {
    "id": "jFi1JWyugzxf"
   },
   "source": [
    "## 6.1.2 And Operator\n",
    "\n",
    "The **and operator** accepts two boolean operands and returns True if both operands are True, and False otherwise, as in the below truth table.\n",
    "\n",
    "p | q | p and q\n",
    "--- | --- | ---\n",
    "True | True | True\n",
    "True | False | False\n",
    "False | True | False\n",
    "False | False | False"
   ]
  },
  {
   "cell_type": "code",
   "execution_count": 2,
   "metadata": {
    "colab": {
     "base_uri": "https://localhost:8080/",
     "height": 85
    },
    "id": "bXb8bHHphXGN",
    "outputId": "d801bbbb-4351-42c3-b490-a70bc580cd1c"
   },
   "outputs": [
    {
     "name": "stdout",
     "output_type": "stream",
     "text": [
      "True\n",
      "False\n",
      "False\n",
      "False\n"
     ]
    }
   ],
   "source": [
    "print( True and True )\n",
    "print( True and False )\n",
    "print( False and True )\n",
    "print( False and False )"
   ]
  },
  {
   "cell_type": "markdown",
   "metadata": {
    "id": "fvyWGuRnqNaQ"
   },
   "source": [
    "### 6.1.3 Or Operator\n",
    "\n",
    "The **or operator** accepts two boolean operands and returns False if both operands are False, and True otherwise, as in the below truth table.\n",
    "\n",
    "p | q | p or q\n",
    "--- | --- | ---\n",
    "True | True | True\n",
    "True | False | True\n",
    "False | True | True\n",
    "False | False | False"
   ]
  },
  {
   "cell_type": "code",
   "execution_count": 3,
   "metadata": {
    "colab": {
     "base_uri": "https://localhost:8080/",
     "height": 85
    },
    "id": "b1zOgcKiqWvh",
    "outputId": "ec615819-8a51-41ce-a227-c76d963e26dd"
   },
   "outputs": [
    {
     "name": "stdout",
     "output_type": "stream",
     "text": [
      "True\n",
      "True\n",
      "True\n",
      "False\n"
     ]
    }
   ],
   "source": [
    "print( True or True )\n",
    "print( True or False )\n",
    "print( False or True )\n",
    "print( False or False )"
   ]
  },
  {
   "cell_type": "markdown",
   "metadata": {
    "id": "fcpZsTxw6KWS"
   },
   "source": [
    "## 6.1.4 Conditional Statements\n",
    "\n",
    "We can use **and** and **or** to create more complex conditional statements that check for multiple conditions.  Try altering some of the below values to see the effect it has on what is output.\n",
    " "
   ]
  },
  {
   "cell_type": "code",
   "execution_count": 4,
   "metadata": {
    "colab": {
     "base_uri": "https://localhost:8080/"
    },
    "id": "60PqEnrN-T-f",
    "outputId": "cbc316c5-6ae6-4c28-8ca1-823292edea2e"
   },
   "outputs": [],
   "source": [
    "if (True and False):\n",
    "  print(\"True and True is True\")\n",
    "\n",
    "if (False or False):\n",
    "  print(\"True or False is True\")\n",
    "\n",
    "x = 20\n",
    "y = 6\n",
    "if (y == 5 and x >= 20):\n",
    "  print(\"y==5 and x>=20 is True\")\n"
   ]
  },
  {
   "cell_type": "markdown",
   "metadata": {
    "id": "k6vsSrf--1Km"
   },
   "source": [
    "For a more practical example, we can use **and** and **or** to check multiple important safety conditions, like the [Ontario guidelines for child car seating](http://www.mto.gov.on.ca/english/safety/choose-car-seat.shtml)."
   ]
  },
  {
   "cell_type": "code",
   "execution_count": null,
   "metadata": {
    "id": "vUogqxLz7LXN"
   },
   "outputs": [],
   "source": [
    "weight = int(input(\"Child weight (lb.): \"))\n",
    "height = int(input(\"Child height (cm): \"))\n",
    "\n",
    "if (weight < 20):\n",
    "  print(\"Use rear-facing child seat\")\n",
    "elif (weight >= 20 and weight <= 40):\n",
    "  print(\"Use front-facing child seat\")\n",
    "elif (weight < 80 and height < 145):\n",
    "  print(\"Use booster seat\")\n",
    "elif (weight >= 80 or height >=145):\n",
    "  print(\"Use seatbelt\")"
   ]
  },
  {
   "cell_type": "markdown",
   "metadata": {
    "id": "dTKeP1aUCqcG"
   },
   "source": [
    "We can also use the **not** operator in conditionals."
   ]
  },
  {
   "cell_type": "code",
   "execution_count": null,
   "metadata": {
    "colab": {
     "base_uri": "https://localhost:8080/",
     "height": 51
    },
    "id": "LTx4KSsIDvBC",
    "outputId": "c0524b30-68fa-4098-b433-173f148e0be7"
   },
   "outputs": [],
   "source": [
    "temperature = int(input(\"Water temperature (C): \"))\n",
    "\n",
    "if (not temperature <= 0):\n",
    "  print(\"Not frozen\")\n",
    "else:\n",
    "  print(\"Frozen\")"
   ]
  },
  {
   "cell_type": "markdown",
   "metadata": {
    "id": "_u2X3gZ6sy6E"
   },
   "source": [
    "## 6.1.5 Operator Precedence\n",
    "\n",
    "Boolean logic operators have the following precedence:\n",
    "\n",
    "1.   not\n",
    "2.   and\n",
    "3.   or\n",
    "\n",
    "Meaning that in the absence of any brackets () to force a different precedence, **not** operators will be applied first, followed by **and** operators, followed by **or** operators.\n",
    "\n",
    "Consider the following:\n"
   ]
  },
  {
   "cell_type": "code",
   "execution_count": 5,
   "metadata": {
    "colab": {
     "base_uri": "https://localhost:8080/",
     "height": 34
    },
    "id": "LhK8W1HRw0DB",
    "outputId": "ff9bf711-3a3d-4415-bec1-ba62ebd8dee4"
   },
   "outputs": [
    {
     "name": "stdout",
     "output_type": "stream",
     "text": [
      "False\n"
     ]
    }
   ],
   "source": [
    "print( not False and False )"
   ]
  },
  {
   "cell_type": "markdown",
   "metadata": {
    "id": "nAVhAUpLxcvR"
   },
   "source": [
    "We might think that **False and False** will evaluate to **False**, and that **not** will then flip that value to **True**.  \n",
    "\n",
    "But because **not** has *higher precedence* than **and**, it applies to the first **False** in the statement and turns it into **True** which leads **True and False** to evaluate to **False**.\n",
    "\n",
    "We could force the **and** operator to evaluate first with brackets:\n"
   ]
  },
  {
   "cell_type": "code",
   "execution_count": 6,
   "metadata": {
    "colab": {
     "base_uri": "https://localhost:8080/",
     "height": 34
    },
    "id": "qKjKklp7x-Pe",
    "outputId": "613abf42-ef79-4ed6-e55f-9776b4f929ac"
   },
   "outputs": [
    {
     "name": "stdout",
     "output_type": "stream",
     "text": [
      "True\n"
     ]
    }
   ],
   "source": [
    "print( not (False and False) )"
   ]
  },
  {
   "cell_type": "markdown",
   "metadata": {
    "id": "nAgVEySkyOi6"
   },
   "source": [
    "In general it's a good idea to use brackets to make the order of evaluation of complex conditional statements clearer to the reader.\n",
    "\n",
    "Notably **and** and **or** evaluate from left to right, and will only evaluate operands on the right if it is still necessary.\n",
    "\n",
    "If the first operand evaluates to **True** in the case of **or** then evaluating the second operand is not necessary.  If the first operand evaluates to **False** in the case of **and** then evaluating the second operator is not necessary."
   ]
  },
  {
   "cell_type": "code",
   "execution_count": 7,
   "metadata": {
    "colab": {
     "base_uri": "https://localhost:8080/",
     "height": 34
    },
    "id": "9XNBEMDNyoqx",
    "outputId": "ca1754a9-d1c0-4120-e539-974d22554eeb"
   },
   "outputs": [
    {
     "data": {
      "text/plain": [
       "True"
      ]
     },
     "execution_count": 7,
     "metadata": {},
     "output_type": "execute_result"
    }
   ],
   "source": [
    "(1 == 1) or (1/0)"
   ]
  },
  {
   "cell_type": "code",
   "execution_count": 12,
   "metadata": {
    "colab": {
     "base_uri": "https://localhost:8080/",
     "height": 34
    },
    "id": "FyJHrzd0yrxZ",
    "outputId": "3dce819b-be06-4442-e7c5-07be5a983c39"
   },
   "outputs": [
    {
     "data": {
      "text/plain": [
       "False"
      ]
     },
     "execution_count": 12,
     "metadata": {},
     "output_type": "execute_result"
    }
   ],
   "source": [
    "(1 == 0) and (1/0)"
   ]
  },
  {
   "cell_type": "code",
   "execution_count": 9,
   "metadata": {
    "colab": {
     "base_uri": "https://localhost:8080/",
     "height": 164
    },
    "id": "IK3r2yOZyuyF",
    "outputId": "8cf3297f-f432-473c-822b-9affe7fb87cf"
   },
   "outputs": [
    {
     "ename": "ZeroDivisionError",
     "evalue": "division by zero",
     "output_type": "error",
     "traceback": [
      "\u001b[1;31m---------------------------------------------------------------------------\u001b[0m",
      "\u001b[1;31mZeroDivisionError\u001b[0m                         Traceback (most recent call last)",
      "\u001b[1;32m<ipython-input-9-c1ba70c16a04>\u001b[0m in \u001b[0;36m<module>\u001b[1;34m\u001b[0m\n\u001b[1;32m----> 1\u001b[1;33m \u001b[1;33m(\u001b[0m\u001b[1;36m1\u001b[0m\u001b[1;33m/\u001b[0m\u001b[1;36m0\u001b[0m\u001b[1;33m)\u001b[0m \u001b[1;32mor\u001b[0m \u001b[1;32mTrue\u001b[0m\u001b[1;33m\u001b[0m\u001b[1;33m\u001b[0m\u001b[0m\n\u001b[0m",
      "\u001b[1;31mZeroDivisionError\u001b[0m: division by zero"
     ]
    }
   ],
   "source": [
    "(1/0) or True"
   ]
  },
  {
   "cell_type": "markdown",
   "metadata": {
    "id": "XeGk2oUMzAwO"
   },
   "source": [
    "We can tell the second operator is not even evaluated in the first two cases above because no error occurs due to division by zero!"
   ]
  },
  {
   "cell_type": "markdown",
   "metadata": {
    "id": "tFu-Tfn1CV0Y"
   },
   "source": [
    "---\n",
    "\n",
    "## 6.2 Nested Control Structures\n",
    "\n",
    "We can put a control structure in the body of another control structure, for example placing an if-statement inside another if-statement.  Consider this example:\n",
    "\n"
   ]
  },
  {
   "cell_type": "code",
   "execution_count": null,
   "metadata": {
    "colab": {
     "base_uri": "https://localhost:8080/",
     "height": 68
    },
    "id": "bqbLkEMqSHSw",
    "outputId": "6a19f44c-0862-4e22-d045-eebbbe7a8716"
   },
   "outputs": [],
   "source": [
    "country = input(\"Enter country: \")\n",
    "shipping = input(\"Enter shipping method: \")\n",
    "\n",
    "if (country == \"canada\" and shipping == \"regular\"):\n",
    "  print(\"Shipping cost is $1\")\n",
    "elif (country == \"canada\" and shipping == \"express\"):\n",
    "  print(\"Shipping cost is $5\")  \n",
    "elif (country == \"canada\" and shipping == \"overnight\"):\n",
    "  print(\"Shipping cost is $20\")\n",
    "else:\n",
    "  print(\"International shipping cost is $10\")"
   ]
  },
  {
   "cell_type": "markdown",
   "metadata": {
    "id": "MTG7sHb2gqML"
   },
   "source": [
    "While the code above works, we're having to repeatedly check that the country is Canada in each condition.  We can remove this repetition and improve the readability of the code with a nested if statement, which will calculate  shipping costs identical the above example."
   ]
  },
  {
   "cell_type": "code",
   "execution_count": null,
   "metadata": {
    "colab": {
     "base_uri": "https://localhost:8080/",
     "height": 68
    },
    "id": "37Q2kvR9hJ_A",
    "outputId": "e4759e2e-4562-4f9e-83da-780c51d435ee"
   },
   "outputs": [],
   "source": [
    "country = input(\"Enter country: \")\n",
    "shipping = input(\"Enter shipping method: \")\n",
    "\n",
    "if (country == \"canada\"):\n",
    "  if (shipping == \"regular\"):\n",
    "    print(\"Shipping cost is $1\")\n",
    "  elif (shipping == \"express\"):\n",
    "    print(\"Shipping cost is $5\")`\n",
    "  elif (shipping == \"overnight\"):\n",
    "    print(\"Shipping cost is $10\")\n",
    "else:\n",
    "  print(\"International shipping cost is $10\")"
   ]
  },
  {
   "cell_type": "markdown",
   "metadata": {
    "id": "BqHauVnoh5Ap"
   },
   "source": [
    "When we put a control structure inside the body of another control structure, we call it a **nested control structure**.  We can create any combination of if-statements, while loops and for loops as nested control structures, and we can nest control structures within nested control structures (e.g. an if-statement inside of a loop, inside of another loop).  \n",
    "\n",
    "While the above example is about improving readability and reducing repetition, often times it's necessary to create nested control structures in order to solve problems.  \n",
    "\n",
    "Consider the below max_num function that returns the maximum number in a list.  It starts off with the assumption that the first number in the list is the maximum number, and then checks all remaining numbers in the list to identify the maximum number (updating the maximum number when a higher number is found)."
   ]
  },
  {
   "cell_type": "code",
   "execution_count": null,
   "metadata": {
    "colab": {
     "base_uri": "https://localhost:8080/",
     "height": 51
    },
    "id": "Zk6F8hUGrFJw",
    "outputId": "3aeea937-28a8-41ac-99d5-f374b7cf13a8"
   },
   "outputs": [],
   "source": [
    "def max_num(list):\n",
    "  max_num = list[0]\n",
    "  \n",
    "  for num in list[1:]:\n",
    "    if (num > max_num):\n",
    "      max_num = num\n",
    "  \n",
    "  return max_num\n",
    "\n",
    "print( max_num( [4,5,9,3] ))\n",
    "print( max_num( [2,8,3,4] ))"
   ]
  },
  {
   "cell_type": "markdown",
   "metadata": {
    "id": "3B8MRlyZsZDO"
   },
   "source": [
    "We can also nest a loop structure inside of another loop structure.  In the below example we find all the prime numbers between 3 and 100 (the outer loop) by checking if each number has any factors (the inner loop).  "
   ]
  },
  {
   "cell_type": "code",
   "execution_count": null,
   "metadata": {
    "colab": {
     "base_uri": "https://localhost:8080/",
     "height": 442
    },
    "id": "IXpvcsJMtNhP",
    "outputId": "be034124-a71a-4383-f039-8c6461f80a80"
   },
   "outputs": [],
   "source": [
    "num = 3\n",
    "while (num <= 100):\n",
    "  div = 2\n",
    "  prime = True \n",
    "\n",
    "  # If num can be divided by a div value with no remainder, it has a factor \n",
    "  # and it is not a prime number.  \n",
    "  while (div < (num / 2) and prime):\n",
    "    if (num % div == 0):\n",
    "      prime = False\n",
    "    div = div + 1\n",
    "\n",
    "  # prime only if no factors were found\n",
    "  if (prime):\n",
    "    print(num)\n",
    "\n",
    "  num = num + 1"
   ]
  },
  {
   "cell_type": "markdown",
   "metadata": {
    "id": "r-bauu3OEWvY"
   },
   "source": [
    "---\n",
    "\n",
    "## 6.3 Test Plans\n",
    "\n",
    "We need to ensure that our code works as expected and is free from **bugs**.  Our code should produce the expected output for the input it is given.  To find potential bugs, it helps to think of ways that we could \"break\" our code with certain inputs.\n",
    "\n",
    "A **test plan** will check for potential bugs in our code by providing inputs that will identify possible problems.  We should include the following inputs in our test plan:\n",
    "\n",
    "*   **Normal cases** - normal expected inputs\n",
    "*   **Boundary cases** - inputs close to or equal to a boundary value where program behaviour is expected to change\n",
    "*   **Abnormal cases** - empty lists, strings, files, values of zero, negative numbers, incorrect data types\n",
    "\n",
    "Note that boundary cases are a special subset of normal cases in that the inputs are also expected, but because behaviour is expected to change at boundary points it's important to include these points in our test plan specifically.\n",
    "\n",
    "Consider the below function for determining whether a year is a leap year or not:\n"
   ]
  },
  {
   "cell_type": "code",
   "execution_count": 2,
   "metadata": {
    "colab": {
     "base_uri": "https://localhost:8080/",
     "height": 51
    },
    "id": "fh33MNKqG9eh",
    "outputId": "e311a51e-fe8f-4f74-e2b9-deb01b3283cd"
   },
   "outputs": [
    {
     "name": "stdout",
     "output_type": "stream",
     "text": [
      "False\n",
      "True\n"
     ]
    }
   ],
   "source": [
    "def  leap_year(year):\n",
    "\tif year % 4 == 0 and (year % 100 != 0 or year % 400 == 0):\n",
    "\t\tleap = True\n",
    "\telse:\n",
    "\t\tleap = False\n",
    "\treturn leap\n",
    "\n",
    "print( leap_year(2019) )\n",
    "print( leap_year(2020) )"
   ]
  },
  {
   "cell_type": "markdown",
   "metadata": {
    "id": "VPB1MV0bPuHC"
   },
   "source": [
    "Let's try to come up with a test plan for the function.\n",
    "\n",
    "**Normal cases** could be any non-negative integers, e.g. 1998, 2012, 2019, etc.\n",
    "\n",
    "**Boundary cases** would involve:\n",
    "\n",
    "*   Non-negative integers not divisible by 4\n",
    "  * e.g. 2017, 2019\n",
    "*   Non-negative integers divisible by 4 (e.g. 2020, 2012), but not by 100\n",
    "  * e.g. 2020, 2016\n",
    "*   Non-negative integers divisible by 4, and 100\n",
    "  * e.g. 1800, 1900\n",
    "*   Non-negative integers divisible by 4, 100 and 400 \n",
    "  * e.g. 1600, 2000\n",
    "\n",
    "The reason these numbers matter is because these values will change the program behaviour based on the conditional statement.  By including the above cases in our test plan, we are effectively testing that all the different possibilities for the conditional are working correctly.\n",
    "\n",
    "**Abnormal cases** would involve values like 0, negative numbers like -1998, incorrect data types like \"twenty twenty\", 2000.50 or False.\n"
   ]
  },
  {
   "cell_type": "code",
   "execution_count": 3,
   "metadata": {
    "colab": {
     "base_uri": "https://localhost:8080/",
     "height": 153
    },
    "id": "DYf7ZgMjYq6X",
    "outputId": "1167a04e-c305-441d-f42c-39e842cb1156"
   },
   "outputs": [
    {
     "name": "stdout",
     "output_type": "stream",
     "text": [
      "False\n",
      "True\n",
      "False\n",
      "True\n",
      "True\n",
      "False\n",
      "False\n",
      "True\n"
     ]
    }
   ],
   "source": [
    "print( leap_year(2017) )\n",
    "print( leap_year(2020) )\n",
    "print( leap_year(1900) )\n",
    "print( leap_year(2000) )\n",
    "print( leap_year(0) )\n",
    "print( leap_year(-1998) )\n",
    "print( leap_year( 2000.50 ) )\n",
    "# print( leap_year(\"twenty twenty\") ) will produce an exception\n",
    "print( leap_year(False) )"
   ]
  },
  {
   "cell_type": "markdown",
   "metadata": {
    "id": "NfAZ6WaNZlGs"
   },
   "source": [
    "If our program has conditionals with <, <=, >, >= operators then our boundary cases should include values near the relevant boundary values.  For example consider this function\""
   ]
  },
  {
   "cell_type": "code",
   "execution_count": 1,
   "metadata": {
    "colab": {
     "base_uri": "https://localhost:8080/",
     "height": 68
    },
    "id": "QvAM6xYLaHyo",
    "outputId": "16b63b18-c23b-4006-8933-49412a280aff"
   },
   "outputs": [
    {
     "name": "stdout",
     "output_type": "stream",
     "text": [
      "-11\n",
      "10\n",
      "11\n"
     ]
    }
   ],
   "source": [
    "def f(x):\n",
    "  if (x < 0):\n",
    "    return x - 10\n",
    "  else:\n",
    "    return x + 10\n",
    "\n",
    "print( f(-1) )\n",
    "print( f(0) )\n",
    "print( f(1) )"
   ]
  },
  {
   "cell_type": "markdown",
   "metadata": {
    "id": "lI38ZuSXaTbo"
   },
   "source": [
    "To properly test the boundary value of x=0 where program behaviour is expected to change, we would want to test the function at x=-1, x=0, and x=1."
   ]
  },
  {
   "cell_type": "markdown",
   "metadata": {
    "id": "faRimhqU404M"
   },
   "source": [
    "---\n",
    "# Homework\n",
    "#### **Before this week's lab,** use the following program to answer the quiz on avenue:\n",
    "\n",
    "Put homework here"
   ]
  },
  {
   "cell_type": "code",
   "execution_count": 25,
   "metadata": {
    "id": "UyoKPCXgUnQM"
   },
   "outputs": [
    {
     "name": "stdout",
     "output_type": "stream",
     "text": [
      "Correct\n"
     ]
    }
   ],
   "source": [
    "x = 12\n",
    "y = 8\n",
    "\n",
    "if(x > 10 and y > 5 or x <5 ):\n",
    "    print(\"Correct\")\n",
    "\n",
    "\n"
   ]
  },
  {
   "cell_type": "markdown",
   "metadata": {
    "id": "5Pp0CMqryjeP"
   },
   "source": [
    "---\n",
    "# Additional Resources\n",
    "[w3 Schools: Python Nested If](https://www.w3schools.com/python/gloss_python_if_nested.asp)\n",
    "\n",
    "[w3 Schools: Python Nested Loops](https://www.w3schools.com/python/gloss_python_for_nested.asp)\n",
    "\n",
    "[Python Docs: Boolean Operations](https://docs.python.org/3/library/stdtypes.html#boolean-operations-and-or-not)\n",
    "\n",
    "[w3 Schools: Python Operators](https://www.w3schools.com/python/python_operators.asp)\n"
   ]
  }
 ],
 "metadata": {
  "colab": {
   "collapsed_sections": [],
   "name": "Computing Pre-Lab Notebook #6",
   "provenance": []
  },
  "kernelspec": {
   "display_name": "Python 3",
   "language": "python",
   "name": "python3"
  },
  "language_info": {
   "codemirror_mode": {
    "name": "ipython",
    "version": 3
   },
   "file_extension": ".py",
   "mimetype": "text/x-python",
   "name": "python",
   "nbconvert_exporter": "python",
   "pygments_lexer": "ipython3",
   "version": "3.8.3"
  }
 },
 "nbformat": 4,
 "nbformat_minor": 1
}
