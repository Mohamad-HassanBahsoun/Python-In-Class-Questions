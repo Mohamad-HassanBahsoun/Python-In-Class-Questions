{
 "cells": [
  {
   "cell_type": "markdown",
   "metadata": {
    "colab_type": "text",
    "id": "QNa8iArXtPq4"
   },
   "source": [
    "# __Computing *6*__ - _Nesting and Testing_\n",
    "\n",
    "This week we'll be covering:\n",
    "*   Boolean operators\n",
    "*   Nested control structures\n",
    "*   Test plans\n",
    "\n",
    "\n",
    "\n",
    "\n",
    "\n"
   ]
  },
  {
   "cell_type": "markdown",
   "metadata": {
    "colab_type": "text",
    "id": "kHRA4jfDCSfs"
   },
   "source": [
    "---\n",
    "\n",
    "## Boolean Logic Operators\n",
    "\n",
    "Boolean logic operators **and**, **or** and **not** accept boolean values as operands and produce a boolean value result.  "
   ]
  },
  {
   "cell_type": "code",
   "execution_count": null,
   "metadata": {},
   "outputs": [],
   "source": [
    "#AND gives True IF and ONLY IF ALL inputs are True\n",
    "#OR gives True if AT LEAST one input is True\n",
    "#NOT gives the opposite of what the input is\n",
    "\n"
   ]
  },
  {
   "cell_type": "markdown",
   "metadata": {
    "colab_type": "text",
    "id": "fcpZsTxw6KWS"
   },
   "source": [
    "## Conditional Statements and Precedence\n",
    "\n",
    "We can use **and** and **or** to create more complex conditional statements that check for multiple conditions. \n",
    "\n",
    "Make sure you're aware of the precedence of these operators or you may get unexpected results."
   ]
  },
  {
   "cell_type": "code",
   "execution_count": 4,
   "metadata": {
    "colab": {
     "base_uri": "https://localhost:8080/",
     "height": 68
    },
    "colab_type": "code",
    "id": "60PqEnrN-T-f",
    "outputId": "35df8eb0-2f82-44c9-c162-089713764b32"
   },
   "outputs": [
    {
     "name": "stdout",
     "output_type": "stream",
     "text": [
      "Can't buy the ticket\n"
     ]
    }
   ],
   "source": [
    "#The precedence of boolean operators is NOT, AND, then OR \n",
    "\n",
    "movie = \"IMAX\"\n",
    "money = 10\n",
    "\n",
    "#The following If-Else block gives the wrong output\n",
    "\n",
    "if (movie == \"IMAX\" or movie == \"DBOX\") and money >= 20:\n",
    "    print(\"Ticket bought\")\n",
    "else:\n",
    "    print(\"Can't buy the ticket\")"
   ]
  },
  {
   "cell_type": "markdown",
   "metadata": {},
   "source": [
    "## Short Circuiting"
   ]
  },
  {
   "cell_type": "code",
   "execution_count": 8,
   "metadata": {},
   "outputs": [
    {
     "name": "stdout",
     "output_type": "stream",
     "text": [
      "False\n",
      "False\n",
      "False\n",
      "False\n",
      "False\n"
     ]
    }
   ],
   "source": [
    "#What is the output of (0 and (1 and -1)) or not \"\" and []?\n",
    "\n",
    "#You can compare different data types in Python\n",
    "#Most of the values from these types are considered to have the value True\n",
    "#Some have the value False\n",
    "\n",
    "print(bool(0))    #int 0\n",
    "print(bool(''))   #empty string\n",
    "print(bool([]))   #empty list\n",
    "print(bool(()))   #empty tuple\n",
    "print(bool(None)) #default return value\n",
    "\n",
    "#Now you'd know the answer is \"\" just by glancing because of:  stuff... AND \"\"\n",
    "#But we can walk through this step by step\n"
   ]
  },
  {
   "cell_type": "markdown",
   "metadata": {},
   "source": [
    "## Compounded IF Statements vs. Boolean Operators"
   ]
  },
  {
   "cell_type": "code",
   "execution_count": null,
   "metadata": {},
   "outputs": [],
   "source": [
    "'''\n",
    "def leap_year(year):  \n",
    "    if year % 4 != 0:\n",
    "        leap = False\n",
    "        return leap\n",
    "    else:               \n",
    "        leap = True\n",
    "    if year % 100 == 0:\n",
    "        leap = False\n",
    "    if year % 400 == 0:\n",
    "        leap = True\n",
    "    return leap\n",
    "'''\n",
    "\n",
    "#Remember the above monstrosity from computing 4?\n",
    "#With boolean logic we can condense it down \n",
    "\n",
    "#For it to be a leap year we need:\n",
    "#Divisibility by 4 AND either NOT divisible by 100 or IS divisible by 400\n"
   ]
  },
  {
   "cell_type": "markdown",
   "metadata": {
    "colab_type": "text",
    "id": "tFu-Tfn1CV0Y"
   },
   "source": [
    "---\n",
    "\n",
    "## Simple Nested Loop\n",
    "\n",
    "We can put a control structure in the body of another control structure, for example placing a loop within a loop, you've also seen IFs within IFs.\n",
    "\n"
   ]
  },
  {
   "cell_type": "code",
   "execution_count": null,
   "metadata": {
    "colab": {
     "base_uri": "https://localhost:8080/",
     "height": 68
    },
    "colab_type": "code",
    "id": "bqbLkEMqSHSw",
    "outputId": "6a19f44c-0862-4e22-d045-eebbbe7a8716"
   },
   "outputs": [],
   "source": [
    "#Print each number with each letter one at a time on seperate lines\n",
    "\n",
    "numbers = [\"1\", \"2\", \"3\"]\n",
    "letters = [\"a\", \"b\", \"c\"]\n",
    "\n",
    "#This is the most basic presentation of a nested loop\n"
   ]
  },
  {
   "cell_type": "markdown",
   "metadata": {},
   "source": [
    "## Mean Complex Nested Loop \n"
   ]
  },
  {
   "cell_type": "code",
   "execution_count": null,
   "metadata": {},
   "outputs": [],
   "source": [
    "#Use nested loops to calculate all prime numbers less than 100\n",
    "#append them to a list\n",
    "#there are 25 numbers\n",
    "\n",
    "primes = [2]\n",
    "#2 is the smallest prime\n"
   ]
  },
  {
   "cell_type": "markdown",
   "metadata": {},
   "source": [
    "## Nested Loops to Process Lists of Lists\n",
    "\n",
    "You're going to see lists within lists in your assignment. The best way to process them is usually with nested for loops."
   ]
  },
  {
   "cell_type": "code",
   "execution_count": 19,
   "metadata": {},
   "outputs": [
    {
     "name": "stdout",
     "output_type": "stream",
     "text": [
      "Please enter a number of sub-lists: 3\n",
      "Please enter a number of elements: 3\n",
      "[[5, 3, 4], [0, 4, 3], [3, 1, 2]]\n"
     ]
    }
   ],
   "source": [
    "#Take 2 integers (m, n) from the user to define a list of lists\n",
    "# m = the number of sub-lists\n",
    "# n = number of elements in each sub-list\n",
    "#So the total number of elements is m * n\n",
    "\n",
    "#Now use the randint function to make every element in this list of lists a random number between 0 and 5\n",
    "\n",
    "#There's several ways you could go about doing this\n",
    "#We'll do this using append()\n",
    "from random import randint\n",
    "m = int(input(\"Please enter a number of sub-lists: \"))\n",
    "n = int(input(\"Please enter a number of elements: \"))\n",
    "\n",
    "list1 = []\n",
    "\n",
    "for sub in range(m):\n",
    "    list1.append([])\n",
    "    for element in range(n):\n",
    "        rand_value = randint(0,5)\n",
    "        list1[sub].append(rand_value)\n",
    "\n",
    "print(list1)\n",
    "        \n",
    "\n"
   ]
  },
  {
   "cell_type": "markdown",
   "metadata": {},
   "source": [
    "## Now Count The Instances Of A Certain Number In Your List"
   ]
  },
  {
   "cell_type": "code",
   "execution_count": null,
   "metadata": {},
   "outputs": [],
   "source": [
    "#Now let's take another number between 0 and 5 from the user\n",
    "#Count the number of times it appears in the master list\n",
    "\n",
    "\n",
    "#print(\"There are\", counter, \"instances of the number\", check_num)"
   ]
  },
  {
   "cell_type": "markdown",
   "metadata": {
    "colab_type": "text",
    "id": "r-bauu3OEWvY"
   },
   "source": [
    "---\n",
    "\n",
    "## Breakout Problem\n",
    "\n",
    "Given a list of lists containing only strings of length 1, use the function *getCount* to determine the number of strings that are equal to 'A', 'B', 'C', 'X', 'Y', and 'Z'.\n",
    "\n",
    "For example, given:\n",
    "\n",
    "```\n",
    "x = [['A','X','A','A'],    \n",
    "     ['A','Y','A','A'],    \n",
    "     ['J','W','W','W'],    \n",
    "     ['L','M','A','O'],\n",
    "     ['R','C','U','U'],    \n",
    "     ['T','Z','X','W'],    \n",
    "     ['U','L','O','L']]\n",
    "```\n",
    "We would get:\n",
    "```\n",
    "getCount(x) = 12\n",
    "```\n"
   ]
  },
  {
   "cell_type": "code",
   "execution_count": 2,
   "metadata": {},
   "outputs": [],
   "source": [
    "def getCount(x):\n",
    "    value_count = 0\n",
    "    for ind in x:\n",
    "        for value in ind:\n",
    "            if value == \"A\" or value == \"B\" or value == \"C\" or value == \"X\" or value == \"Y\" or value == \"Z\":\n",
    "                value_count +=1\n",
    "    return value_count\n",
    "            "
   ]
  },
  {
   "cell_type": "markdown",
   "metadata": {},
   "source": [
    "You can use the following cell to test your code."
   ]
  },
  {
   "cell_type": "code",
   "execution_count": 119,
   "metadata": {},
   "outputs": [
    {
     "name": "stdout",
     "output_type": "stream",
     "text": [
      "0\n"
     ]
    }
   ],
   "source": [
    "x = [['A','X','A','A'],    \n",
    "     ['A','Y','A','A'],    \n",
    "     ['J','W','W','W'],    \n",
    "     ['L','M','A','O'],\n",
    "     ['R','C','U','U'],    \n",
    "     ['T','Z','X','W'],    \n",
    "     ['U','L','O','L']]\n",
    "\n",
    "def countType(map_data,map_type):\n",
    "    type_counter = 0\n",
    "    for i in map_data:\n",
    "        type_counter = type_counter\n",
    "\n",
    "    return type_counter\n",
    "print(countType(x,'A'))\n"
   ]
  },
  {
   "cell_type": "markdown",
   "metadata": {
    "colab_type": "text",
    "id": "5Pp0CMqryjeP"
   },
   "source": [
    "---\n",
    "# Additional Resources\n",
    "[w3 Schools: Python Nested If](https://www.w3schools.com/python/gloss_python_if_nested.asp)\n",
    "\n",
    "[w3 Schools: Python Nested Loops](https://www.w3schools.com/python/gloss_python_for_nested.asp)\n",
    "\n",
    "[Python Docs: Boolean Operations](https://docs.python.org/3/library/stdtypes.html#boolean-operations-and-or-not)\n",
    "\n",
    "[w3 Schools: Python Operators](https://www.w3schools.com/python/python_operators.asp)\n"
   ]
  },
  {
   "cell_type": "code",
   "execution_count": null,
   "metadata": {},
   "outputs": [],
   "source": []
  }
 ],
 "metadata": {
  "colab": {
   "collapsed_sections": [],
   "name": "Computing Pre-Lab Notebook #6",
   "provenance": []
  },
  "kernelspec": {
   "display_name": "Python 3",
   "language": "python",
   "name": "python3"
  },
  "language_info": {
   "codemirror_mode": {
    "name": "ipython",
    "version": 3
   },
   "file_extension": ".py",
   "mimetype": "text/x-python",
   "name": "python",
   "nbconvert_exporter": "python",
   "pygments_lexer": "ipython3",
   "version": "3.8.3"
  }
 },
 "nbformat": 4,
 "nbformat_minor": 1
}
