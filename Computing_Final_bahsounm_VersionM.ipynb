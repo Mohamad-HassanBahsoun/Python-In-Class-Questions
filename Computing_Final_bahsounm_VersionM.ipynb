{
 "cells": [
  {
   "cell_type": "code",
   "execution_count": 5,
   "metadata": {},
   "outputs": [
    {
     "name": "stdout",
     "output_type": "stream",
     "text": [
      "500.0\n",
      "[2, 4, 6, 8, 10, 12, 14, 16, 18, 20, 22]\n"
     ]
    }
   ],
   "source": [
    "# bahsounm Coding Practicum Version M\n",
    "\n",
    "def problem1(series, resistances):\n",
    "    if len(resistances)<=1:\n",
    "        return \"NA\"\n",
    "    else:\n",
    "        if series == True:\n",
    "            resistance_eq = 0\n",
    "            for i in resistances:\n",
    "                resistance_eq += i\n",
    "            return resistance_eq\n",
    "        else:\n",
    "            resistance_eq = 0\n",
    "            for i in resistances:\n",
    "                resistance_eq += (1/i)\n",
    "            resistance_eq = 1/resistance_eq\n",
    "            return resistance_eq\n",
    "\n",
    "#print(problem1(False,[1000,2000,4000,4000]))\n",
    "\n",
    "#---------------------------------------------------------\n",
    "\n",
    "def problem2(multiple, end):\n",
    "    multiples_list = []\n",
    "    for i in range(1,end+1):\n",
    "        multiples_list.append(multiple*i)\n",
    "    return multiples_list\n",
    "\n",
    "#print(problem2(2,11))"
   ]
  },
  {
   "cell_type": "code",
   "execution_count": null,
   "metadata": {},
   "outputs": [],
   "source": []
  }
 ],
 "metadata": {
  "kernelspec": {
   "display_name": "Python 3",
   "language": "python",
   "name": "python3"
  },
  "language_info": {
   "codemirror_mode": {
    "name": "ipython",
    "version": 3
   },
   "file_extension": ".py",
   "mimetype": "text/x-python",
   "name": "python",
   "nbconvert_exporter": "python",
   "pygments_lexer": "ipython3",
   "version": "3.8.3"
  }
 },
 "nbformat": 4,
 "nbformat_minor": 4
}
