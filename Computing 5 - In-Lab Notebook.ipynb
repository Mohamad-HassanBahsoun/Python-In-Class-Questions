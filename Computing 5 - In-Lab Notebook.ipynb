{
 "cells": [
  {
   "cell_type": "markdown",
   "metadata": {
    "colab_type": "text",
    "id": "LQPzDZ4y4M65"
   },
   "source": [
    "# __Computing Lab *5*__ - _In and Out_\n",
    "---\n",
    "# Overview\n",
    "Welcome back to another computing lab! This week we will be covering __*Files*__!<br/>\n",
    "\n",
    "Today we will cover:\n",
    "* Opening/closing files \n",
    "* Reading & looping rhrough files(Methods)  \n",
    "* Writing & looping to files (Methods) \n"
   ]
  },
  {
   "cell_type": "markdown",
   "metadata": {
    "colab_type": "text",
    "id": "0qefzO7i5v38"
   },
   "source": [
    "---\n",
    "# 2. Opening/Closing Files \n",
    "Here are the basic steps in File I/O:\n",
    "* Open the file\n",
    "* Read/write from/to the file\n",
    "* Close the file"
   ]
  },
  {
   "cell_type": "code",
   "execution_count": null,
   "metadata": {
    "colab": {},
    "colab_type": "code",
    "id": "BmqDiaWu57dA"
   },
   "outputs": [],
   "source": [
    "#The variable you assign when opening a file is what you will call your methods on\n",
    "#1. open the file - the default is to open in 'read' mode\n",
    "my_file = open(\"read.txt\", \"r\")\n",
    "#2. perform operations\n",
    "stuff = my_file.read()\n",
    "#3. ALWAYS close your files\n",
    "my_file.close()\n",
    "\n",
    "print(stuff)\n",
    "\n",
    "#To automatically close a file when done, open the file using a 'with' statement\n",
    "\n",
    "\n",
    "#Try reading from the file after exiting the WITH statement\n",
    "with open(\"read.txt\") as f:\n",
    "    stuff1 = f.read()\n",
    "print(stuff1)"
   ]
  },
  {
   "cell_type": "markdown",
   "metadata": {
    "colab_type": "text",
    "id": "Bck9osfE5-w4"
   },
   "source": [
    "---\n",
    "# 3. Reading From Files \n",
    "File I/O can be tricky so let's start with some simple methods for reading a file"
   ]
  },
  {
   "cell_type": "code",
   "execution_count": null,
   "metadata": {
    "colab": {},
    "colab_type": "code",
    "id": "-JYHrwBP5_AT"
   },
   "outputs": [],
   "source": [
    "#Open read.txt in the current directory\n",
    "\n",
    "f = open(\"read.txt\")\n",
    "\n",
    "#read() can take a parameter that tells it how many characters to read\n",
    "#no input makes it read the entire file\n",
    "print(f.read(12))\n",
    "\n",
    "#readline() will read until the next newline\n",
    "\n",
    "print(f.readline())\n",
    "#readlines() will take each line in the file and place it into a list\n",
    "print(f.readlines())\n",
    "\n",
    "#ALWAYS close your file!\n",
    "f.close()\n",
    "\n",
    "\n",
    "\n",
    "#note how each of the above functions picks up where the previous function stopped,\n",
    "#rather than starting from the beginning of the file\n",
    "\n",
    "#MOST of the time you will simply be using read()"
   ]
  },
  {
   "cell_type": "markdown",
   "metadata": {
    "colab_type": "text",
    "id": "qxFQ_KVa6KHx"
   },
   "source": [
    "---\n",
    "# 4. Looping Through Files \n",
    "Sometimes we need to import data from a file. If we know how the data in the file is formatted it can be pretty simple to extract what we need using a loop.\n",
    "The file \"column.txt\" has all the numbers listed in a column (i.e. seperated on newlines)"
   ]
  },
  {
   "cell_type": "code",
   "execution_count": null,
   "metadata": {
    "colab": {},
    "colab_type": "code",
    "id": "JlL2DGyb6KY2"
   },
   "outputs": [],
   "source": [
    "data_list = []\n",
    "\n",
    "#open the file\n",
    "file = open(\"column.txt\")\n",
    "for line in file:\n",
    "    data = line.strip(\"\\n\")\n",
    "    data_list.append(int(data))\n",
    "    \n",
    "print(data_list)\n",
    "\n",
    "\n",
    "file.close()"
   ]
  },
  {
   "cell_type": "markdown",
   "metadata": {
    "colab_type": "text",
    "id": "43og-nNv6KhX"
   },
   "source": [
    "---\n",
    "# 5. Writing to Files \n",
    "Everyone's a critic - but now anyone can be a writer too thanks to File I/O.<br/>\n",
    "You just have to open a file with the right permissions to write."
   ]
  },
  {
   "cell_type": "code",
   "execution_count": 4,
   "metadata": {
    "colab": {},
    "colab_type": "code",
    "id": "4zXAGorW6Kn9"
   },
   "outputs": [],
   "source": [
    "#Create a file and write a sentence to it\n",
    "\n",
    "#Using open() with \"w\" will create a file with that name if none exists\n",
    "file = open(\"write.txt\",\"w\")\n",
    "file.write(\"we ar writing\\n\")\n",
    "file.write(\"Into this file\\n\")\n",
    "\n",
    "\n",
    "#Write each element of this list each to a new line in the same file as above\n",
    "words = ['These elements', 'are in a', 'list', 'together']\n",
    "\n",
    "#We can write each element in a list on new lines\n",
    "#Though we need to remember to write our newline characters manually\n",
    "\n",
    "for line in words:\n",
    "    file.write(line+\"\\n\")\n",
    "\n",
    "    #Always close your file\n",
    "file.close()"
   ]
  },
  {
   "cell_type": "markdown",
   "metadata": {},
   "source": [
    "## Writing to Files With a For Loop\n",
    "\n",
    "Conversely to our 'read' example, what if we have a huge list and want to export it to a file?"
   ]
  },
  {
   "cell_type": "code",
   "execution_count": null,
   "metadata": {},
   "outputs": [],
   "source": [
    "#Write the following list of numbers to a file with each number on a new line\n",
    "num_list = [3, 5, 1, 8, 7]\n",
    "\n",
    "#Open the file in write mode\n",
    "file = open(\"number.txt\", \"w\")\n",
    "\n",
    "#Loop through the list\n",
    "for num in num_list:\n",
    "    str_num = str(num)\n",
    "    file.write(str_num + \"\\n\")\n",
    "    #Convert the element to a string\n",
    "\n",
    "    #Write it to the file\n",
    "\n",
    "\n",
    "#Close the file\n",
    "\n",
    "file.close()\n",
    "\n",
    "\n",
    "\n",
    "#Now reopen the file to print the first 3 numbers\n",
    "with open(\"number.txt\") as f:\n",
    "    i = 0\n",
    "    for line in f:\n",
    "        print(line.strip(\"\\n\"))\n",
    "        i+= 1\n",
    "        if i == 3:\n",
    "            break\n",
    "            "
   ]
  },
  {
   "cell_type": "markdown",
   "metadata": {},
   "source": [
    "## Append Mode\n",
    "\n",
    "You saw this in the prelab but we'll cover it again since you'll need it for the breakout problem AND assignment"
   ]
  },
  {
   "cell_type": "code",
   "execution_count": null,
   "metadata": {},
   "outputs": [],
   "source": [
    "#Use append mode to add the following list of numbers on new lines to the end of numbers.txt\n",
    "#Don't overwrite numbers.txt, the previous numbers [3, 5, 1, 8, 7] should still be in the same file\n",
    "append_nums = [6, 2, 0, 4, 9]\n",
    "my_file = open(\"number.txt\",\"a\")\n",
    "for num in append_nums:\n",
    "    my_file.write(str(num)+\"\\n\")\n",
    "my_file.close()\n",
    "#Run this cell several times and you'll see that the file is not overwritten\n",
    "#We can actively add to and read from the file while keeping any previously written content"
   ]
  },
  {
   "cell_type": "markdown",
   "metadata": {},
   "source": [
    "---\n",
    "# Breakout Problem\n",
    "\n"
   ]
  },
  {
   "cell_type": "markdown",
   "metadata": {},
   "source": [
    "In your teams, create a program that keep tracks of grocery items in a text file. Items are stored as a string, line by line in a text file. Implement the following functions:\n",
    "\n",
    "1. **addItem**(*item*, *filename*):\n",
    "    - The function opens the file with the string name *filename* in append mode and adds the string *item* to a new line in *filename*.\n",
    "    \n",
    "    \n",
    "2. **getGroceryList**(*filename*):\n",
    "    - The function opens the file with string name *filename* in read mode and prints the items in *filename* (in a nicely formatted manner).\n",
    "    \n",
    "Implement your functions in the cell below. A main function has been provided to you to test your functions once they are implemented!"
   ]
  },
  {
   "cell_type": "code",
   "execution_count": 3,
   "metadata": {},
   "outputs": [
    {
     "name": "stdout",
     "output_type": "stream",
     "text": [
      "Press <a> to add a grocery item to your list, <l> to list your grocery items, <q> to quit.a\n",
      "Please enter an item to add to the list: apple\n",
      "apple  added sucessfully!\n",
      "Press <a> to add a grocery item to your list, <l> to list your grocery items, <q> to quit.a\n",
      "Please enter an item to add to the list: banana\n",
      "banana  added sucessfully!\n",
      "Press <a> to add a grocery item to your list, <l> to list your grocery items, <q> to quit.l\n",
      "-apple\n",
      "\n",
      "-banana\n",
      "\n",
      "Press <a> to add a grocery item to your list, <l> to list your grocery items, <q> to quit.q\n"
     ]
    }
   ],
   "source": [
    "# Adds an item to filename \n",
    "def addItem(item, filename):\n",
    "\n",
    "    # YOUR CODE HERE\n",
    "    my_file = open(filename, \"a\")\n",
    "    my_file.write(item + \"\\n\")\n",
    "    my_file.close()\n",
    "    return None\n",
    "\n",
    "# Prints the items in filename (in a nicely formatted mannor)\n",
    "def getGroceryList(filename):\n",
    "    \n",
    "    # YOUR CODE HERE\n",
    "    my_file = open(filename)\n",
    "    data = my_file.readlines()\n",
    "    my_file.close()\n",
    "    \n",
    "    for i in data:\n",
    "        print(\"-\"+ i)\n",
    "    return None\n",
    "\n",
    "def main():\n",
    "    file = \"groceryList.txt\"\n",
    "    f = open(file,'w')\n",
    "    f.write('')\n",
    "    f.close()\n",
    "    while True:\n",
    "        ans = input(\"Press <a> to add a grocery item to your list, <l> to list your grocery items, <q> to quit.\")\n",
    "        # Quit if user types q\n",
    "        if ans == 'q':\n",
    "            break \n",
    "        # Add item if user types a\n",
    "        if ans == 'a':\n",
    "            item = input(\"Please enter an item to add to the list: \")\n",
    "            addItem(item, file)\n",
    "            print(item,\" added sucessfully!\" )\n",
    "        # List items if user types l\n",
    "        elif ans == 'l':\n",
    "            getGroceryList(file)\n",
    "        else:\n",
    "            print(\"Please enter a valid character\")\n",
    "main()"
   ]
  },
  {
   "cell_type": "markdown",
   "metadata": {
    "colab_type": "text",
    "id": "ozSkfhWk6YSu"
   },
   "source": [
    "---\n",
    "\n",
    "# Additional Resources\n",
    "[Input and Output](https://docs.python.org/3/tutorial/inputoutput.html)\n",
    "\n",
    "[W3 Schools: Python File Handling](https://www.w3schools.com/python/python_file_handling.asp)\n",
    "\n",
    "[W3 Schools: Python File Open](https://www.w3schools.com/python/python_file_open.asp)\n",
    "\n",
    "[W3 Schools: Python File Write](https://www.w3schools.com/python/python_file_write.asp)\n",
    "\n",
    "[Geeks for Geeks: File Objects in Python](https://www.geeksforgeeks.org/file-objects-python/)\n",
    "\n",
    "[Geeks for Geeks: Python seek() Function](https://www.geeksforgeeks.org/python-seek-function/)"
   ]
  }
 ],
 "metadata": {
  "colab": {
   "name": "Computing Pre-Lab Notebook #5",
   "provenance": []
  },
  "kernelspec": {
   "display_name": "Python 3",
   "language": "python",
   "name": "python3"
  },
  "language_info": {
   "codemirror_mode": {
    "name": "ipython",
    "version": 3
   },
   "file_extension": ".py",
   "mimetype": "text/x-python",
   "name": "python",
   "nbconvert_exporter": "python",
   "pygments_lexer": "ipython3",
   "version": "3.8.3"
  }
 },
 "nbformat": 4,
 "nbformat_minor": 1
}
