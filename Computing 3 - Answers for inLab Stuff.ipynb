{
 "cells": [
  {
   "cell_type": "markdown",
   "metadata": {
    "colab_type": "text",
    "id": "QNa8iArXtPq4"
   },
   "source": [
    "# __1P13 Week 6__ - _In The Loop_\n",
    "---\n",
    "# Overview\n",
    "Welcome to our fourth online module for 1P13's computing lab. This week we'll be covering:\n",
    "*   Lists\n",
    "*   String Operations\n",
    "*   For Loops"
   ]
  },
  {
   "cell_type": "markdown",
   "metadata": {
    "colab_type": "text",
    "id": "E0JdlgcpKPvz"
   },
   "source": [
    "---\n",
    "# 1. Lists\n"
   ]
  },
  {
   "cell_type": "markdown",
   "metadata": {
    "colab_type": "text",
    "id": "ItxAMuriVZwN"
   },
   "source": [
    "## 1.1 Lists Indexing"
   ]
  },
  {
   "cell_type": "markdown",
   "metadata": {
    "colab_type": "text",
    "id": "02nEVN0GKaYx"
   },
   "source": [
    "Indexing & Slicing A List\n"
   ]
  },
  {
   "cell_type": "code",
   "execution_count": 10,
   "metadata": {
    "colab": {
     "base_uri": "https://localhost:8080/",
     "height": 126
    },
    "colab_type": "code",
    "id": "TsqdBAwLKjJw",
    "outputId": "f5593d26-940b-4f8f-8b7b-312aae067669",
    "scrolled": true
   },
   "outputs": [
    {
     "name": "stdout",
     "output_type": "stream",
     "text": [
      "Here's\n",
      "strings\n",
      "['list', 'of', 'strings']\n",
      "[\"Here's\", 'a', 'list', 'of', 'strings']\n",
      "[\"Here's\", 96024, 'list', 'of', 'strings']\n"
     ]
    }
   ],
   "source": [
    "#Let's see the various ways we can access a list\n",
    "my_list = [\"Here's\", \"a\", \"list\", \"of\", \"strings\"]\n",
    "\n",
    "#The first element is indexed at 0, so our indices range from 0 to 4\n",
    "print(my_list[0])\n",
    "\n",
    "#If we want the last item we can then of course do:\n",
    "print(my_list[4])\n",
    "\n",
    "#Alternatively we can also start indexing from the end of the list:\n",
    "my_list[-1]\n",
    "\n",
    "\n",
    "\n",
    "\n",
    "#If we only want part of the list then:\n",
    "print(my_list[2:])\n",
    "\n",
    "\n",
    "\n",
    "#We can also modify each element in a list the same we access them\n",
    "print(my_list)\n",
    "#Let's change the second element:\n",
    "my_list[1] = 96024\n",
    "print(my_list)\n",
    "#Now print our list to see it changed"
   ]
  },
  {
   "cell_type": "markdown",
   "metadata": {
    "colab_type": "text",
    "id": "AXDJHXTqKoGk"
   },
   "source": [
    "## 1.2 Adding and Removing Elements\n",
    "We can use the following methods to add and remove elements from lists. We can take a look at how to use them down below\n",
    "* **list_name.append(x)**\n",
    " * Adds item 'x' at the end of the list\n",
    "* **list_name.insert(n,x)**\n",
    " * Insert item 'x' at position of index 'n'\n",
    "* **list_name.remove(x)**\n",
    " * Removes the first occurrence of value 'x' and raises an error if the value is not found\n",
    "* **list_name.pop(n)**\n",
    " * Returns the item at the index 'n' and removes it from the list\n"
   ]
  },
  {
   "cell_type": "markdown",
   "metadata": {
    "colab_type": "text",
    "id": "DMZPWqEFSHLI"
   },
   "source": [
    "Using List Methods to Add/Remove/Insert"
   ]
  },
  {
   "cell_type": "code",
   "execution_count": 17,
   "metadata": {
    "colab": {},
    "colab_type": "code",
    "id": "-3dEOnfoN2_j"
   },
   "outputs": [
    {
     "name": "stdout",
     "output_type": "stream",
     "text": [
      "['K', 'a', 'r', 'a', 'n']\n",
      "5\n",
      "5\n",
      "['K', 'r', 'a', 'n']\n",
      "['K', 'a', 'r', 'a', 'n']\n",
      "['K', 'a', 'r', 'a', 'n', 98192381]\n"
     ]
    }
   ],
   "source": [
    "#Let's manipulate lists some more\n",
    "#Save your name as a string into a variable, and convert it into a list using list()\n",
    "name = \"Karan\"\n",
    "letters = list(name)\n",
    "print(letters)\n",
    "\n",
    "#Let's record how long the list is using len() \n",
    "print(len(letters))\n",
    "print(len(name))\n",
    "\n",
    "#Choose a letter and remove it from the list with remove()\n",
    "letters.remove(\"a\")\n",
    "print(letters)\n",
    "#if your name has repeating letters then .remove() only deleted the first occurence\n",
    "\n",
    "\n",
    "#Put the letter back using insert(), you need to give the index and element as arguments\n",
    "letters.insert(1, \"a\")\n",
    "print(letters)\n",
    "\n",
    "letters.append(98192381)\n",
    "print(letters)"
   ]
  },
  {
   "cell_type": "markdown",
   "metadata": {
    "colab_type": "text",
    "id": "0l4wwreTKyQA"
   },
   "source": [
    "## 1.3 Additional Methods\n",
    "There are more additional functions which are useful when dealing with lists. We can take a look at some useful ones below: <br/>\n",
    "\n",
    "* **list(**sequence**)** \n",
    " * Returns a list made of a given sequence\n",
    "* **len(**sequence**)**\n",
    " * Returns the number of items in a sequence\n",
    "* **sorted(**sequence**)**\n",
    " * Return a new list containing all items from the iterable in ascending order"
   ]
  },
  {
   "cell_type": "markdown",
   "metadata": {
    "colab_type": "text",
    "id": "yuTdvycEJHD5"
   },
   "source": [
    "Don't forget sorting!\n",
    "* **list_name.sort()**\n",
    " * Sorts the items in the list in ascending order"
   ]
  },
  {
   "cell_type": "markdown",
   "metadata": {
    "colab_type": "text",
    "id": "ByMdoGj9LoAN"
   },
   "source": [
    "---\n",
    "# 2 Strings\n",
    "\n",
    "## 2.1 String Methods:  \n",
    "Methods are functions that are performed by specific types of objects. We saw this ealier with the functions we used with lists. String methods provide useful functions to manipulate strings and are exclusive to string objects.\n",
    "\n",
    "* __string_name.lower()__\n",
    "\n",
    " * Return a copy of the string with all the cased characters converted to lowercase\n",
    "\n",
    "* __string_name.upper()__\n",
    "\n",
    " * Return a copy of the string with all the cased characters converted to uppercase\n",
    "\n",
    "* __string_name.split(__ [sep] __)__\n",
    " \n",
    " * Return a list of the words in the string, using *sep* as the\n",
    " delimiter string\n",
    " * The default separator with no argument is *any whitespace character*\n",
    "   * \" \" – space character  \n",
    "   * \" \" – tab character  \n",
    "   * \" \" – newline character  \n",
    "\n",
    "* __string_name.join(__ iterable __)__\n",
    "\n",
    " * Return a string which is the concatenation of the strings in\n",
    "   *iterable*\n",
    "\n",
    "* __string_name.format(__ \\*args, \\*\\*kwargs __)__\n",
    "\n",
    " * Perform a string formatting operation on replacement fields in the\n",
    " string delimited by braces \"{}\"\n",
    " * Each replacement field contains either\n",
    "   the numeric index of a positional argument, or the name of a\n",
    "   keyword argument.\n"
   ]
  },
  {
   "cell_type": "markdown",
   "metadata": {
    "colab_type": "text",
    "id": "O2oKYZomU2e6"
   },
   "source": [
    "Strings .join() Method"
   ]
  },
  {
   "cell_type": "code",
   "execution_count": 20,
   "metadata": {
    "colab": {},
    "colab_type": "code",
    "id": "K4dJXbYbLKkp"
   },
   "outputs": [
    {
     "name": "stdout",
     "output_type": "stream",
     "text": [
      "1abc2abc3\n"
     ]
    }
   ],
   "source": [
    "#The .join() method lets you create strings from iterable objects\n",
    "#Suppose we have the list\n",
    "my_nums = ['1', '2', '3', '4']\n",
    "\n",
    "'''\n",
    ".join() works like this:\n",
    "if we say x.join(y) where x = \"abc\" and y = ['1', '2', '3']\n",
    "we will get \"1abc2abc3\"\n",
    "'''\n",
    "\n",
    "#So we need a string to use as a seperator (x from the above example) \n",
    "string_nums = \"abc\".join(['1', '2', '3'])\n",
    "print(string_nums)\n"
   ]
  },
  {
   "cell_type": "markdown",
   "metadata": {
    "colab_type": "text",
    "id": "AC2BhaE1U7uQ"
   },
   "source": [
    "String .strip() Method"
   ]
  },
  {
   "cell_type": "code",
   "execution_count": 26,
   "metadata": {
    "colab": {},
    "colab_type": "code",
    "id": "LgVnVm8uLd98"
   },
   "outputs": [
    {
     "name": "stdout",
     "output_type": "stream",
     "text": [
      "  abba dada abba   \n",
      "abba dada abba\n",
      "dad\n",
      "  abba dada abba   \n",
      "dad\n"
     ]
    }
   ],
   "source": [
    "#Another useful method for strings is .strip()\n",
    "x = \"  abba dada abba   \"\n",
    "print(x)\n",
    "\n",
    "#.strip() with no arguments removes all leading and trailing whitespaces\n",
    "print(x.strip(\" \"))\n",
    "\n",
    "\n",
    "#.strip() can be a bit confusing, make sure you try different parameters to get a better grip\n",
    "print(x.strip(\" ba\"))\n",
    "\n",
    "#Note that the order of the characters in the parameter doesn't matter\n",
    "\n",
    "\n",
    "'''\n",
    "\" ab\" tells .strip() to remove all leading and trailing whitespaces, a, and b characters\n",
    "essentially, it is looking for any of those 3 characters to remove each time it moves to the next character in the string\n",
    "once it finds a character that wasn't given as a parameter, it stops\n",
    "'''\n",
    "\n",
    "#Given the above knowledge, what happens if we don't include a whitespace in the parameter?\n",
    "print(x.strip(\"ab\"))\n",
    "\n",
    "#Nothing! Because it checked the first + last characters (whitespaces) and wasn't told to remove it\n",
    "\n",
    "#Let's do the above again, but remove the TRAILING spaces from the string\n",
    "string_two = \"  abba dada abba\"\n",
    "\n",
    "\n",
    "#It doesn't touch the front of the string, and only removes the \"abba\" from the end!\n",
    "#Even the single whitespace is still there\n",
    "print(string_two.strip(\" ab\"))"
   ]
  },
  {
   "cell_type": "markdown",
   "metadata": {
    "colab_type": "text",
    "id": "74N4n0xkVA_g"
   },
   "source": [
    "String .split() Method"
   ]
  },
  {
   "cell_type": "code",
   "execution_count": 5,
   "metadata": {
    "colab": {},
    "colab_type": "code",
    "id": "ELe568oCLQyO"
   },
   "outputs": [
    {
     "name": "stdout",
     "output_type": "stream",
     "text": [
      "['Split', 'at', 'white', 'spaces']\n",
      "['Hello', 'split at the commas', 'please']\n",
      "['Hello, split at the commas, please']\n",
      "['123', '21!']\n",
      "['123', '21!']\n",
      "21\n"
     ]
    }
   ],
   "source": [
    "#Use .split() to seperate the following strings into lists as described in the string itself\n",
    "\n",
    "\n",
    "string_one = \"Split at white spaces\"\n",
    "#With no parameters, .split() will simply split at white space (spaces, tabs, new lines)\n",
    "print(string_one.split())\n",
    "\n",
    "\n",
    "string_two = \"Hello, split at the commas, please\"\n",
    "#Same as above, but this time we specify the 'seperator' when calling .split()\n",
    "print(string_two.split(\", \"))\n",
    "\n",
    "\n",
    "#Notice that the list has 3 string elements, since there were only 2 commas\n",
    "print(string_two.split(\".\"))\n",
    "#Also if we specify a seperator that doesn't exist in the string\n",
    "#We just get the original string as a single element in a list\n",
    "\n",
    "\n",
    "\n",
    "\n",
    "\n",
    "#Hint: this might be specifically useful for the assignment \n",
    "\n",
    "my_list = ['123/21!', 'def/42!', 'ghi/66!']\n",
    "#If we know our inputs are all formatted in the same way (like above) and want to extract them\n",
    "#We could split each string at the slash and store the new strings in seperate variables\n",
    "new_list = my_list[0].split(\"/\")\n",
    "print(new_list)\n",
    "print(new_list)\n",
    "num = int(new_list[1].strip(\"!\"))\n",
    "print(num)\n",
    "#The number still has the '!' at the end; think about how you'd remove it \n",
    "\n",
    "\n",
    "new_num = (my_list[0].strip(\"123\"))\n",
    "# print(new_num)"
   ]
  },
  {
   "cell_type": "markdown",
   "metadata": {
    "colab_type": "text",
    "id": "MkY2YuzXMNHX"
   },
   "source": [
    "---\n",
    "# 3 For Loops\n",
    "The \"for\" statement is used to iterate over the elements of a sequence\n",
    "(such as a string, tuple or list) or other iterable object. <br/> We can take a closer look down below at how we'll use this.\n"
   ]
  },
  {
   "cell_type": "markdown",
   "metadata": {
    "colab_type": "text",
    "id": "pnRo4qtYMo3L"
   },
   "source": [
    "## 3.1 The Range Function\n",
    "\n"
   ]
  },
  {
   "cell_type": "markdown",
   "metadata": {
    "colab_type": "text",
    "id": "QJNq4GZDVNpw"
   },
   "source": [
    "Calculating Average using For Loops"
   ]
  },
  {
   "cell_type": "code",
   "execution_count": 41,
   "metadata": {
    "colab": {},
    "colab_type": "code",
    "id": "CAKxfX9dM6F8"
   },
   "outputs": [
    {
     "name": "stdout",
     "output_type": "stream",
     "text": [
      "Classes: 3\n",
      "Grade: 23\n",
      "[23.0]\n",
      "Grade: 65\n",
      "[23.0, 65.0]\n",
      "Grade: 76\n",
      "[23.0, 65.0, 76.0]\n",
      "54.666666666666664\n"
     ]
    }
   ],
   "source": [
    "#Use a for loop to calculate the unweighted average grades of the user\n",
    "\n",
    "#First we need to define an empty list\n",
    "grades = []\n",
    "#Now ask for the number of classes and convert to int\n",
    "num_classes = int(input(\"Classes: \"))\n",
    "\n",
    "for i in range(num_classes):\n",
    "    user_grade = float(input(\"Grade: \"))\n",
    "    grades.append(user_grade)\n",
    "    print(grades)\n",
    "\n",
    "#Now we'll use the range() function with num_classes to loop exactly as many times as we need\n",
    "avg = sum(grades) / len(grades)\n",
    "print(avg)\n",
    "\n",
    "#Now use our handy list functions sum() and len() to get an average \n",
    "#though we could also just divide by num_classes\n"
   ]
  },
  {
   "cell_type": "markdown",
   "metadata": {
    "colab_type": "text",
    "id": "telnPIXiOHTM"
   },
   "source": [
    "## 3.x Looping Through Strings and Lists\n"
   ]
  },
  {
   "cell_type": "markdown",
   "metadata": {
    "colab_type": "text",
    "id": "F6L2ol6aV65O"
   },
   "source": [
    "Looping Through a String"
   ]
  },
  {
   "cell_type": "code",
   "execution_count": 42,
   "metadata": {
    "colab": {},
    "colab_type": "code",
    "id": "Uz6RwzPLx9JD"
   },
   "outputs": [
    {
     "name": "stdout",
     "output_type": "stream",
     "text": [
      "E\n",
      "N\n",
      "G\n",
      "I\n",
      "N\n",
      "E\n",
      "E\n",
      "R\n",
      "I\n",
      "N\n",
      "G\n"
     ]
    }
   ],
   "source": [
    "#Looping Through Strings\n",
    "\n",
    "#Use a for loop to print each letter in 'program' as a capital on seperate lines\n",
    "program = \"engineering\"\n",
    "\n",
    "for letter in program:\n",
    "    print(letter.title())\n",
    "    \n",
    "    \n",
    "    \n",
    "    \n",
    "    \n",
    "    \n",
    "    \n",
    "    \n",
    "for \"e\" in program:\n",
    "    print(\"e\".title()) -> \"E\"\n",
    "    \n",
    "    \n",
    "for \"n\" in program:\n",
    "    print(\"n\".title()) -> \"N\""
   ]
  },
  {
   "cell_type": "markdown",
   "metadata": {
    "colab_type": "text",
    "id": "6nL4di1AV-ca"
   },
   "source": [
    "Looping Through a List"
   ]
  },
  {
   "cell_type": "code",
   "execution_count": 49,
   "metadata": {
    "colab": {
     "base_uri": "https://localhost:8080/"
    },
    "colab_type": "code",
    "id": "fhT5WZJ0MkuL",
    "outputId": "889b7f64-0c5b-4da7-cc2f-9c210c4b25ce"
   },
   "outputs": [
    {
     "name": "stdout",
     "output_type": "stream",
     "text": [
      "['Karan', 'john', 'karim', 'eric', 'bosco']\n",
      "['Karan', 'John', 'karim', 'eric', 'bosco']\n",
      "['Karan', 'John', 'Karim', 'eric', 'bosco']\n",
      "['Karan', 'John', 'Karim', 'Eric', 'bosco']\n",
      "['Karan', 'John', 'Karim', 'Eric', 'Bosco']\n"
     ]
    }
   ],
   "source": [
    "#Modifying All Elements In a List With a Loop and Target Variable\n",
    "\n",
    "#Capitalize the first letter of each name in this list\n",
    "names_list = [\"karan\", \"john\", \"karim\", \"eric\", \"bosco\"]\n",
    "index = 0\n",
    "#Now loop through every element in our list and modify them\n",
    "\n",
    "for name in names_list:\n",
    "    cap_name = name.title()\n",
    "    names_list[index] = cap_name\n",
    "    index += 1 # index = index + 1\n",
    "    print(names_list)\n",
    "    \n",
    "#print(names_list)"
   ]
  },
  {
   "cell_type": "markdown",
   "metadata": {
    "colab_type": "text",
    "id": "qwLGahydX5SB"
   },
   "source": [
    "---\n",
    "# Breakout Problem\n",
    "\n",
    "In your teams, write a function that will compute the product of all integers in a list where each element in the list is a string in the following format:\n",
    "\n",
    "<div align=\"center\">\n",
    "\"int\\n\"\n",
    "</div>\n",
    "\n",
    "An example list is:\n",
    "```\n",
    "x = ['91\\n', '148\\n', '100\\n', '16\\n', '36\\n', '34\\n', '80\\n', '154\\n']\n",
    "```\n",
    "Write your function below. The function should return the product of the integers. After your write your function, run the main function test your code! Verify that your code is correct by using your calculator to multiply the numbers!"
   ]
  },
  {
   "cell_type": "code",
   "execution_count": 52,
   "metadata": {
    "colab": {},
    "colab_type": "code",
    "id": "wvPdVZclxUKY"
   },
   "outputs": [
    {
     "name": "stdout",
     "output_type": "stream",
     "text": [
      "324949008384000\n"
     ]
    }
   ],
   "source": [
    "# WRITE FUNCTION HERE\n",
    "def multiply(string_list):\n",
    "    product = 1\n",
    "    for string in string_list:\n",
    "        num = int(string.strip(\"\\n\"))\n",
    "        product *= num # product = product * num\n",
    "    \n",
    "    return product\n",
    "        \n",
    "\n",
    "\n",
    "def main():\n",
    "    x = ['91\\n', '148\\n', '100\\n', '16\\n', '36\\n', '34\\n', '80\\n', '154\\n']\n",
    "  # CALL FUNCTION AND PRINT RESULTS HERE  \n",
    "    print(multiply(x))\n",
    "\n",
    "main()"
   ]
  },
  {
   "cell_type": "markdown",
   "metadata": {
    "colab_type": "text",
    "id": "5Pp0CMqryjeP"
   },
   "source": [
    "---\n",
    "# Additional Resources\n",
    "[String Methods](https://docs.python.org/2.5/lib/string-methods.html)\n",
    "\n",
    "[W3 Schools: Python Lists](https://www.w3schools.com/python/python_lists.asp)\n",
    "\n",
    "[W3 Schools: Python List/Array Methods](https://www.w3schools.com/python/python_ref_list.asp)\n",
    "\n",
    "[W3 Schools: Python Strings](https://www.w3schools.com/python/python_strings.asp)\n",
    "\n",
    "[W3 Schools: Python String Methods](https://www.w3schools.com/python/python_ref_string.asp)\n",
    "\n",
    "[W3 Schools: Python For Loops](https://www.w3schools.com/python/python_for_loops.asp)\n",
    "\n",
    "[W3 Schools: Python range() Function](https://www.w3schools.com/python/ref_func_range.asp)"
   ]
  }
 ],
 "metadata": {
  "colab": {
   "collapsed_sections": [],
   "name": "Computing 3 - Lab Notebook Solutions",
   "provenance": []
  },
  "kernelspec": {
   "display_name": "Python 3",
   "language": "python",
   "name": "python3"
  },
  "language_info": {
   "codemirror_mode": {
    "name": "ipython",
    "version": 3
   },
   "file_extension": ".py",
   "mimetype": "text/x-python",
   "name": "python",
   "nbconvert_exporter": "python",
   "pygments_lexer": "ipython3",
   "version": "3.8.3"
  }
 },
 "nbformat": 4,
 "nbformat_minor": 1
}
