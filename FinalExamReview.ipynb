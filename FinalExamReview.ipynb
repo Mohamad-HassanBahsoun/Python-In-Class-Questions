{
 "cells": [
  {
   "cell_type": "markdown",
   "metadata": {},
   "source": [
    "# Final Exam Review\n",
    "\n",
    "These are some practice code examples to help review for the final exam!"
   ]
  },
  {
   "cell_type": "markdown",
   "metadata": {},
   "source": [
    "Create a function that analyzes the contents of a string.\n",
    "\n",
    "The function should accept as arguments a string and a special character.  \n",
    "\n",
    "The function should return a list **[spaces, vowels, other, special]**, where spaces is the number of space characters (\" \") in the string, vowels is the number of vowel characters (a,e,i,o, or u), other is the number of characters that are not spaces or vowels, and special is the number of occurrences of the special character.\n",
    "\n",
    "Note that the special character could be any character, including vowels or a space character.  You can assume that any letter characters contained in the string are lower case."
   ]
  },
  {
   "cell_type": "code",
   "execution_count": null,
   "metadata": {},
   "outputs": [],
   "source": [
    "\n",
    "def letter_analyzer(input_string, special_char):\n",
    "    \n",
    "    spaces = 0\n",
    "    vowels = 0\n",
    "    other = 0\n",
    "    special = 0\n",
    "    \n",
    "    for c in input_string:\n",
    "        \n",
    "        if (c == \" \"):\n",
    "            spaces = spaces + 1\n",
    "        elif (c == \"a\" or c == \"e\" or c == \"i\" or c == \"o\" or c == \"u\"):\n",
    "            vowels = vowels + 1\n",
    "        else:\n",
    "            other = other + 1\n",
    "            \n",
    "        if (c == special_char):\n",
    "            special = special + 1\n",
    "    \n",
    "    return [spaces, vowels, other, special]\n",
    "\n",
    "letter_analyzer(\"abc def. xyz\", \"x\")"
   ]
  },
  {
   "cell_type": "raw",
   "metadata": {},
   "source": [
    "Write a loop that continously asks the user for a string and special character.  Call the above function for the given input, and report the results to the user.  Give the user the option to quit by entering \"quit\" or to continue by entering any other text. "
   ]
  },
  {
   "cell_type": "code",
   "execution_count": null,
   "metadata": {},
   "outputs": [],
   "source": [
    "while True:\n",
    "    input_string = input(\"Enter a string to analyze: \")\n",
    "    special_char = input(\"Enter a special character: \")\n",
    "    results = letter_analyzer(input_string, special_char)\n",
    "    print(\"Spaces:\", results[0])\n",
    "    print(\"Vowels:\", results[1])\n",
    "    print(\"Other:\", results[2])\n",
    "    print(\"Special:\", results[3])\n",
    "    quit_option = input(\"Enter 'quit' to quit, or any other text to continue!\")\n",
    "    if (quit_option == \"quit\"):\n",
    "        break;"
   ]
  },
  {
   "cell_type": "markdown",
   "metadata": {},
   "source": [
    "Create a function that will check to see if a distance is exceeded given speed and time values.\n",
    "\n",
    "The function should accept as arguments a list of speeds (e.g. m/s) and a list of times (e.g. s), as well as a required distance (e.g. m).  The function should compute and print the distance covered for each possible speed and time combination (printing the associated speed and time as well).  The function should return a list of all (speed, time) tuples for all speed and time combinations where the distance covered exceeds the required distance.\n",
    "\n",
    "Call the function with some speeds, times and a required distance."
   ]
  },
  {
   "cell_type": "code",
   "execution_count": null,
   "metadata": {},
   "outputs": [],
   "source": [
    "\n",
    "def distance_checker(speeds,times,distance_required):\n",
    "    \n",
    "    acceptable = []\n",
    "    \n",
    "    for speed in speeds:\n",
    "        for time in times:\n",
    "            distance_covered = speed * time\n",
    "            print(\"distance:\", distance_covered, \"(speed:\", speed, \"time:\", time, \")\")\n",
    "            if (distance_covered > distance_required):\n",
    "                acceptable.append( (speed, time) )\n",
    "    \n",
    "    return acceptable\n",
    "    \n",
    "distance_checker([1,2,3],[1,2,3],5)"
   ]
  },
  {
   "cell_type": "markdown",
   "metadata": {},
   "source": [
    "Create a class to represent basketball players with attributes for the player's name and points per game, as well as a method for printing a player.  \n",
    "\n",
    "Create a class to represent teams with attributes for the team name and an initially empty list of players.  A method should allow a player to be created and added to the list of players based on user input; the method should use a try-except block to report errors related to input data.  Create a method to print all players on the team, and a method to print the top player on the team by points per game.\n",
    "\n",
    "Provide code to try out these methods."
   ]
  },
  {
   "cell_type": "code",
   "execution_count": 3,
   "metadata": {},
   "outputs": [
    {
     "name": "stdout",
     "output_type": "stream",
     "text": [
      "Enter player name: Pascal Siakam\n",
      "Enter points per game: 20.4\n",
      "Enter player name: Fred VanVleet\n",
      "Enter points per game: 19.8\n",
      "Enter player name: Kyle Lowry\n",
      "Enter points per game: 17.1\n",
      "\n",
      "\n",
      "Raptors Player Roster\n",
      "-----------------------------------\n",
      "Pascal Siakam 20.4\n",
      "Fred VanVleet 19.8\n",
      "Kyle Lowry 17.1\n",
      "\n",
      "Top player: \n",
      "Pascal Siakam 20.4\n"
     ]
    }
   ],
   "source": [
    "class Player:\n",
    "    \n",
    "    def __init__(self,name,points_per_game):\n",
    "        self.name = name\n",
    "        self.points_per_game = points_per_game\n",
    "    \n",
    "    def print_player(self):\n",
    "        print(self.name, self.points_per_game)\n",
    "        \n",
    "\n",
    "class Team:\n",
    "    \n",
    "    def __init__(self,name):\n",
    "        self.name = name\n",
    "        self.players = []\n",
    "    \n",
    "    def add_player(self):\n",
    "        try:\n",
    "            name = input(\"Enter player name: \")\n",
    "            points_per_game = float(input(\"Enter points per game: \"))\n",
    "            self.players.append( Player(name, points_per_game) )\n",
    "        except:\n",
    "            print(\"Player data entered incorrectly.\")\n",
    "    \n",
    "    def print_team(self):\n",
    "        print(\"\\n\\n\" + self.name + \" Player Roster\")\n",
    "        print(\"-----------------------------------\")\n",
    "        for player in self.players:\n",
    "            player.print_player()\n",
    "    \n",
    "    def top_player(self):\n",
    "        \n",
    "        if (len(self.players) == 0):\n",
    "            print(\"No players added yet!\")\n",
    "        else:\n",
    "            top_player = self.players[0]\n",
    "            for player in self.players:\n",
    "                if (player.points_per_game > top_player.points_per_game):\n",
    "                    top_player =  player\n",
    "                    \n",
    "            print(\"\\nTop player: \")\n",
    "            top_player.print_player()\n",
    "                    \n",
    "        \n",
    "raptors = Team(\"Raptors\")\n",
    "raptors.add_player()\n",
    "raptors.add_player()\n",
    "raptors.add_player()\n",
    "raptors.print_team()\n",
    "raptors.top_player()"
   ]
  },
  {
   "cell_type": "markdown",
   "metadata": {},
   "source": [
    "Rational numbers (or fractions) can be expressed as a numerator divided by a non-zero denominator.\n",
    "\n",
    "Create a class to represent rational numbers.  An exception should be thrown if an attempt is made to create a rational number with a zero denominator.  Create a method to print the rational number.  Create a method to reduce the rational number to lowest terms (e.g. turn 2/4 into 1/2).  Create a method to add another rational number to the rational number and return the reduced result.\n",
    "\n",
    "Provide code to try out these methods."
   ]
  },
  {
   "cell_type": "code",
   "execution_count": 1,
   "metadata": {},
   "outputs": [
    {
     "name": "stdout",
     "output_type": "stream",
     "text": [
      "1/2\n",
      "1/4\n",
      "3/4\n"
     ]
    }
   ],
   "source": [
    "class RationalNumber:\n",
    "    \n",
    "    def __init__(self,numerator,denominator):\n",
    "        if (denominator == 0):\n",
    "            raise Exception(\"Cannot have a denominator of zero!\")\n",
    "        self.numerator = numerator\n",
    "        self.denominator = denominator\n",
    "\n",
    "    def print_number(self):\n",
    "        print( str(self.numerator) + \"/\" + str(self.denominator) )\n",
    "\n",
    "    def reduce(self):\n",
    "        if (self.numerator > self.denominator):\n",
    "            lowest = self.denominator\n",
    "        else:\n",
    "            lowest = self.numerator\n",
    "        \n",
    "        gcd = 1\n",
    "        for x in range(1, (lowest + 1)):\n",
    "            if ((self.numerator % x == 0) and (self.denominator % x == 0)):\n",
    "                gcd = x\n",
    "        \n",
    "        self.numerator = self.numerator // gcd\n",
    "        self.denominator = self.denominator // gcd\n",
    "        \n",
    "        \n",
    "    def add(self,other):\n",
    "        numerator = self.numerator * other.denominator + other.numerator * self.denominator\n",
    "        denominator = self.denominator * other.denominator\n",
    "        result = RationalNumber(numerator, denominator)\n",
    "        result.reduce()\n",
    "        return result\n",
    "        \n",
    "half = RationalNumber(1,2)\n",
    "half.print_number()\n",
    "quarter = RationalNumber(1,4)\n",
    "quarter.print_number()\n",
    "result = half.add(quarter)\n",
    "result.print_number()"
   ]
  },
  {
   "cell_type": "code",
   "execution_count": null,
   "metadata": {},
   "outputs": [],
   "source": []
  }
 ],
 "metadata": {
  "kernelspec": {
   "display_name": "Python 3",
   "language": "python",
   "name": "python3"
  },
  "language_info": {
   "codemirror_mode": {
    "name": "ipython",
    "version": 3
   },
   "file_extension": ".py",
   "mimetype": "text/x-python",
   "name": "python",
   "nbconvert_exporter": "python",
   "pygments_lexer": "ipython3",
   "version": "3.8.3"
  }
 },
 "nbformat": 4,
 "nbformat_minor": 4
}
