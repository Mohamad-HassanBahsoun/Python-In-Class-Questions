{
 "cells": [
  {
   "cell_type": "markdown",
   "metadata": {
    "colab_type": "text",
    "id": "qwLGahydX5SB"
   },
   "source": [
    "# Computing 3 Assignment\n"
   ]
  },
  {
   "cell_type": "markdown",
   "metadata": {
    "colab_type": "text",
    "id": "7ti8TYwYX5NI"
   },
   "source": [
    "---\n",
    "## Background\n",
    "\n",
    "Generating statistics from a set of data is a task that computers love. In this assignment, you and your team will be implementing a grade processing system that will generate the mean and standard deviation for a set of final exam grades.\n",
    "\n",
    "We will assume that final grades are stored in a list, where each entry in the list is a string with the following format:\n",
    "\n",
    "<div align=\"center\">\n",
    "\"studentNum-finalGrade%\"\n",
    "</div>\n",
    "\n",
    "The string represents the final exam mark (*finalGrade*) that the student (*studentNum*) achieved. For example, the cell below contains a list of final exam marks from two students. Student **1007089** achieved a mark of **91%**, and student **1009989** achieved a mark of **77.5%**.\n",
    "\n",
    "```\n",
    "grades = ['1007089-91%','1009989-77.5%']\n",
    "```\n",
    "\n",
    "We want to calculate the mean final exam mark from a list of grades. If we assume that we have **N** grades, the mean **$\\bar{x}$** can be calculated from the following formula:\n",
    "\n",
    "\n",
    "<br/>\n",
    "\\begin{align}\n",
    "  \\bar{x} = \\frac{1}{N}\\sum_{i=0}^{N-1} x_i \\tag{1}\n",
    "\\end{align}\n",
    "<br/>\n",
    "\n",
    "The variable **$x_i$** represents each grade in our list at index i. We assume that we start counting at 0.\n",
    "\n",
    "We also want to be able to calculate the standard deviation from a list of grades. The standard deviation measures the amount of variability in our data set. For example, let’s say we want to compute the average and standard deviation for the grades [80, 90, 70, 60]. The average of these grades is 75, and the standard deviation is 11.2. Now imagine we want to compute the average and standard deviation for the grades [80, 76 ,74, 70]. The average of these grades is 75, but the standard deviation is 3.6. Although both sets of grades have the same average, the second set has a smaller standard deviation. The reason is because the grades are not as “spread out” as the grades in the first set. The grades in the second set deviate from their average by a small amount.\n",
    "\n",
    "The standard deviation $\\sigma$ is calculated using our mean $\\bar{x}$ and the following formula:\n",
    "\n",
    "<br/>\n",
    "\\begin{align}\n",
    "  \\sigma = \\sqrt{\\frac{1}{N}\\sum_{i=0}^{N-1} (x_i-\\bar{x})^2} \\tag{2}\n",
    "\\end{align}\n",
    "<br/>\n",
    "\n",
    "The requirements of the program are given below.\n",
    "\n",
    "\n"
   ]
  },
  {
   "cell_type": "markdown",
   "metadata": {
    "colab_type": "text",
    "id": "F0rMpqpbbe6b"
   },
   "source": [
    "---\n",
    "## Requirements\n",
    "\n",
    "The requirements of the program are given below. Please ensure that your functions have the EXACT naming as specified! Failure to do so will result in lost marks.\n",
    "\n",
    "1. Define a function **extractGrade**(*x*):\n",
    "  - ***x***: A *string* containing a student number and grade in the format \"studentNum-Grade%\"\n",
    "  - **Return**: The student's grade as a *float*.\n",
    "  \n",
    "\n",
    "2. Define a function **classAverage**(*final_marks*):\n",
    "  - ***final_marks***: A *list* of strings, where each string is formatted as \"studentNum-Grade%\".\n",
    "  - **Return**: The mean grade of the grades in *final_marks* calculated using equation (1).<br/>*(Hint: Use your **extractGrade** function and a for loop!)*\n",
    "\n",
    "\n",
    "3. Define a function **classStdDev**(*final_marks*):\n",
    "  - ***final_marks***: A *list* of strings, where each string is formatted as \"studentNum-Grade%\".\n",
    "  - **Return**: The standard deviation of the grades in *final_marks* calculated using equation (2)."
   ]
  },
  {
   "cell_type": "markdown",
   "metadata": {
    "colab_type": "text",
    "id": "0sCzEGhfc6ln"
   },
   "source": [
    "---\n",
    "## Implementation\n",
    "Please define all functions in the cell below"
   ]
  },
  {
   "cell_type": "code",
   "execution_count": 1,
   "metadata": {
    "colab": {},
    "colab_type": "code",
    "id": "NhNJnwTQYBQ2"
   },
   "outputs": [],
   "source": [
    "# Function required to obtaint the grade\n",
    "def exactGrade(x):\n",
    "    '''\n",
    "    Here what i did was remove the student number while\n",
    "    keeping the grade trapped by the-% so that the grade remained,\n",
    "    then i seperated the - and the %\n",
    "    '''\n",
    "    string = x.strip(\"0123456789\")\n",
    "    grade = float(string.strip(\"-%\"))\n",
    "    return grade\n",
    "\n",
    "# Function required to the mean of the grades\n",
    "def classAverage(final_marks):\n",
    "    '''\n",
    "    Here we need to calculate the average, and any number of \n",
    "    grades can be provided, so i set N(Number of grades) = to \n",
    "    the length of the list then using the for loop indiced through\n",
    "    the list obtaining the grade and adding it to get a sum then \n",
    "    returned sum divided by the length of the string(number of grades)\n",
    "    '''\n",
    "    x = len(final_marks)\n",
    "    sum = 0\n",
    "    for i in final_marks:\n",
    "        mark = exactGrade(i)\n",
    "        sum += mark\n",
    "    return (sum/x)\n",
    "\n",
    "# Function required to obtain the standard deviation\n",
    "def classStdDev(final_marks):\n",
    "    '''\n",
    "    Here we calculate the Standard Deveation. We do this by taking the difference\n",
    "    between each grade and the average, then we squared it. After this we sum up all\n",
    "    of these calculations, then we obtain another average, then we take the square root\n",
    "    '''\n",
    "    x = len(final_marks)\n",
    "    sum = 0\n",
    "    for i in final_marks:\n",
    "        sum += ((exactGrade(i)-classAverage(final_marks))**2)\n",
    "        stdDev = ((sum/x)**(1/2))\n",
    "    return round(stdDev,3)"
   ]
  },
  {
   "cell_type": "markdown",
   "metadata": {
    "colab_type": "text",
    "id": "WgMyyo-vdVT_"
   },
   "source": [
    "---\n",
    "## Testing\n",
    "\n",
    "The following code creates a main function that you can use to test out your code once you have implemented your functions.\n",
    "\n",
    "```\n",
    "def main():\n",
    "  final_exam_grades = [\"1003324-71.5%\",\"1001425-99.5%\",\"1009980-86.0%\",\"1001480-84.0%\",\"1005244-87.0%\"]\n",
    "  avg = classAverage(final_exam_grades)\n",
    "  std_dev = classStdDev(final_exam_grades)\n",
    "  print(\"Final exam class average:\",round(avg,3),\"%\")\n",
    "  print(\"Final exam standard deviation:\",round(std_dev,3),\"%\")\n",
    "main()\n",
    "```\n",
    "\n",
    "Copy the code and paste it into the cell below. Run the cell to verify that your code works correctly with the provided input. The following message should be printed after the main() function above is run:\n",
    "\n",
    ">*Final exam class average: 85.6 %<br/>\n",
    ">Final exam standard deviation: 8.907 %<br/>*\n",
    "\n",
    "\n",
    "\n",
    "\n",
    "\n",
    "\n"
   ]
  },
  {
   "cell_type": "code",
   "execution_count": 2,
   "metadata": {
    "colab": {
     "base_uri": "https://localhost:8080/",
     "height": 51
    },
    "colab_type": "code",
    "id": "YVAvbxoMdcuj",
    "outputId": "9cd3f3f2-5618-4687-92f5-d3a744f518b5"
   },
   "outputs": [
    {
     "name": "stdout",
     "output_type": "stream",
     "text": [
      "Final exam class average: 85.6 %\n",
      "Final exam standard deviation: 8.907 %\n"
     ]
    }
   ],
   "source": [
    "def main():\n",
    "  final_exam_grades = [\"1003324-70%\",\"1001425-90.0%\",\"1009980-86.0%\",\"1001480-89.8%\",\"1005244-87.3%\"]\n",
    "  avg = classAverage(final_exam_grades)\n",
    "  std_dev = classStdDev(final_exam_grades)\n",
    "  print(\"Final exam class average:\",round(avg,3),\"%\")\n",
    "  print(\"Final exam standard deviation:\",round(std_dev,3),\"%\")\n",
    "main()\n"
   ]
  },
  {
   "cell_type": "markdown",
   "metadata": {
    "colab_type": "text",
    "id": "0eGVQmy5dhDe"
   },
   "source": [
    "Note that your code is not necessarily correct if your output matches the expected output. Your code will be checked against multiple inputs for correctness. The cell above it not graded, so feel free to modify the code as you wish!"
   ]
  },
  {
   "cell_type": "markdown",
   "metadata": {
    "colab_type": "text",
    "id": "I-H2l4mYdqMe"
   },
   "source": [
    "---\n",
    "## Reflective Questions\n",
    "\n",
    "1. Assume that you always supply the correctly formatted input into your **classAverage** and **classStdDev** functions. That is, a list where entries are strings that follow the “studentNum-finalGrade%” format. Is there any input that can cause your program to fail?\n",
    "\n",
    "2. How would your code change if the string format was changed from “studentNum-finalGrade%” to “studentNum:finalGrade”? You do not need to implement this change but explain what needs to be modified. \n",
    "\n",
    "3. Can you compute the average and standard deviation grade using a single for loop? Why or why not.\n",
    "\n",
    "Please answer all questions in the cell below!"
   ]
  },
  {
   "cell_type": "markdown",
   "metadata": {
    "colab": {},
    "colab_type": "code",
    "id": "d5A_9jeadq8F"
   },
   "source": [
    "```\n",
    "DOUBLE CLICK TO EDIT THIS CELL. DO NOT ERASE THE TRIPLE QUOTATION MARKS\n",
    "\n",
    "Question 1 : Inputs that can cause the program to fail would be if it was a different input that the “studentNum-finalGrade%\" format (example, what if it was just words or letters, no numbers), or if the inlcuded a word that represented the final grade. At that point we cannot turn that into a float.  \n",
    "\n",
    "Question 2 : The only function that would need to change is the exactGrade() function. I would spilt where the \":\" is. Then i would index to the grade location and return it as a float. (Assuming that the % sign is gone) (if the % sign were still there then all you would need to change in the program is \"-\" to \":\" )    \n",
    "\n",
    "Question 3 : No, you cannot compute the average and the standard deviation. If you do the average will be right but no the standard deviation. This is because when you calulate (xi-x)^2 this is going to be subtracting the average up to the i being used not the whole averge. So we need to calulate the average first elsewhere, then use it to find the standard deviation. \n",
    "\n",
    "```"
   ]
  },
  {
   "cell_type": "markdown",
   "metadata": {},
   "source": [
    "---\n",
    "## Submission\n",
    "\n",
    "Please download this notebook as a .py file (*File* > *Download as* > *Python (.py)*) and submit it to the Computing Lab 3 dropbox on avenue with the naming convention: macID_CL3.py\n",
    "\n",
    "This assignment is due the day after your Lab A section at 11:59 PM EST\n",
    "\n",
    "Late labs will not be accepted"
   ]
  },
  {
   "cell_type": "code",
   "execution_count": null,
   "metadata": {},
   "outputs": [],
   "source": []
  }
 ],
 "metadata": {
  "colab": {
   "collapsed_sections": [],
   "name": "Computing 3 - Assignment Solution",
   "provenance": []
  },
  "kernelspec": {
   "display_name": "Python 3",
   "language": "python",
   "name": "python3"
  },
  "language_info": {
   "codemirror_mode": {
    "name": "ipython",
    "version": 3
   },
   "file_extension": ".py",
   "mimetype": "text/x-python",
   "name": "python",
   "nbconvert_exporter": "python",
   "pygments_lexer": "ipython3",
   "version": "3.8.3"
  }
 },
 "nbformat": 4,
 "nbformat_minor": 1
}
