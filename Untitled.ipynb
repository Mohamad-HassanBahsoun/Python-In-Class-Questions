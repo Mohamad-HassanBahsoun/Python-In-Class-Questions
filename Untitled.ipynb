{
 "cells": [
  {
   "cell_type": "code",
   "execution_count": 2,
   "metadata": {},
   "outputs": [
    {
     "name": "stdout",
     "output_type": "stream",
     "text": [
      "[2.0, 2.0, 2.6666666666666665, 4.0]\n"
     ]
    }
   ],
   "source": [
    "first = [1,2,3,4,5]\n",
    "second = [2,4,8,16]\n",
    "new_list = []\n",
    "count = 0\n",
    "for i in range(len(first)):\n",
    "    if count < len(second):\n",
    "        result = second[i] / first[i]\n",
    "        new_list.append(result)\n",
    "\n",
    "    count +=1\n",
    "print(new_list)"
   ]
  },
  {
   "cell_type": "code",
   "execution_count": 18,
   "metadata": {},
   "outputs": [
    {
     "name": "stdout",
     "output_type": "stream",
     "text": [
      "200.0\n",
      "40000.0\n",
      "80000.0\n",
      "79980.0\n",
      "0.0\n"
     ]
    }
   ],
   "source": [
    "class Mathing:\n",
    "\n",
    "    def __init__(self,number):\n",
    "        self.number = number\n",
    "\n",
    "    def get_number(self):\n",
    "        return self.number\n",
    "\n",
    "    def add_number(self,number):\n",
    "        self.number += self.number\n",
    "\n",
    "    def subtract_number(self,number):\n",
    "        self.number -= number\n",
    "\n",
    "    def multiply_number(self,number):\n",
    "        self.number *=number\n",
    "        \n",
    "num = 20\n",
    "alg = Mathing(num)\n",
    "\n",
    "alg.multiply_number(num/2)\n",
    "print(alg.get_number())\n",
    "alg.multiply_number(alg.get_number())\n",
    "print(alg.get_number())\n",
    "alg.add_number(alg.get_number())\n",
    "print(alg.get_number())\n",
    "alg.subtract_number(num)\n",
    "print(alg.get_number())\n",
    "alg.subtract_number(alg.get_number())\n",
    "print(alg.get_number())"
   ]
  },
  {
   "cell_type": "code",
   "execution_count": 20,
   "metadata": {},
   "outputs": [
    {
     "ename": "IndexError",
     "evalue": "list index out of range",
     "output_type": "error",
     "traceback": [
      "\u001b[1;31m---------------------------------------------------------------------------\u001b[0m",
      "\u001b[1;31mIndexError\u001b[0m                                Traceback (most recent call last)",
      "\u001b[1;32m<ipython-input-20-1bbf3d000246>\u001b[0m in \u001b[0;36m<module>\u001b[1;34m\u001b[0m\n\u001b[0;32m     11\u001b[0m     \u001b[1;32mreturn\u001b[0m \u001b[0mtotal\u001b[0m\u001b[1;33m\u001b[0m\u001b[1;33m\u001b[0m\u001b[0m\n\u001b[0;32m     12\u001b[0m \u001b[1;33m\u001b[0m\u001b[0m\n\u001b[1;32m---> 13\u001b[1;33m \u001b[0mq\u001b[0m\u001b[1;33m(\u001b[0m\u001b[1;33m[\u001b[0m\u001b[1;33m]\u001b[0m\u001b[1;33m)\u001b[0m\u001b[1;33m\u001b[0m\u001b[1;33m\u001b[0m\u001b[0m\n\u001b[0m",
      "\u001b[1;32m<ipython-input-20-1bbf3d000246>\u001b[0m in \u001b[0;36mq\u001b[1;34m(coin)\u001b[0m\n\u001b[0;32m      1\u001b[0m \u001b[1;32mdef\u001b[0m \u001b[0mq\u001b[0m\u001b[1;33m(\u001b[0m\u001b[0mcoin\u001b[0m\u001b[1;33m)\u001b[0m\u001b[1;33m:\u001b[0m\u001b[1;33m\u001b[0m\u001b[1;33m\u001b[0m\u001b[0m\n\u001b[1;32m----> 2\u001b[1;33m     \u001b[0mtotal\u001b[0m \u001b[1;33m=\u001b[0m \u001b[0mcoin\u001b[0m\u001b[1;33m[\u001b[0m\u001b[1;36m0\u001b[0m\u001b[1;33m]\u001b[0m\u001b[1;33m*\u001b[0m\u001b[1;36m0.25\u001b[0m \u001b[1;33m+\u001b[0m \u001b[0mcoin\u001b[0m\u001b[1;33m[\u001b[0m\u001b[1;36m1\u001b[0m\u001b[1;33m]\u001b[0m\u001b[1;33m*\u001b[0m\u001b[1;36m0.1\u001b[0m \u001b[1;33m+\u001b[0m \u001b[0mcoin\u001b[0m\u001b[1;33m[\u001b[0m\u001b[1;36m2\u001b[0m\u001b[1;33m]\u001b[0m\u001b[1;33m*\u001b[0m\u001b[1;36m0.05\u001b[0m\u001b[1;33m\u001b[0m\u001b[1;33m\u001b[0m\u001b[0m\n\u001b[0m\u001b[0;32m      3\u001b[0m     \u001b[1;32mif\u001b[0m \u001b[0mtotal\u001b[0m \u001b[1;33m>\u001b[0m \u001b[1;36m1.00\u001b[0m\u001b[1;33m:\u001b[0m\u001b[1;33m\u001b[0m\u001b[1;33m\u001b[0m\u001b[0m\n\u001b[0;32m      4\u001b[0m         \u001b[0mdiff\u001b[0m \u001b[1;33m=\u001b[0m \u001b[0mtotal\u001b[0m \u001b[1;33m-\u001b[0m \u001b[1;36m1.00\u001b[0m\u001b[1;33m\u001b[0m\u001b[1;33m\u001b[0m\u001b[0m\n\u001b[0;32m      5\u001b[0m         \u001b[0mprint\u001b[0m\u001b[1;33m(\u001b[0m\u001b[0mdiff\u001b[0m\u001b[1;33m)\u001b[0m\u001b[1;33m\u001b[0m\u001b[1;33m\u001b[0m\u001b[0m\n",
      "\u001b[1;31mIndexError\u001b[0m: list index out of range"
     ]
    }
   ],
   "source": [
    "def q(coin):\n",
    "    total = coin[0]*0.25 + coin[1]*0.1 + coin[2]*0.05\n",
    "    if total > 1.00:\n",
    "        diff = total - 1.00\n",
    "        print(diff)\n",
    "    elif total<1.00:\n",
    "        diff = 1.00-total\n",
    "        print(diff)\n",
    "    else:\n",
    "        print(\"1.00\")\n",
    "    return total\n",
    "\n",
    "q([])"
   ]
  },
  {
   "cell_type": "code",
   "execution_count": 29,
   "metadata": {},
   "outputs": [
    {
     "data": {
      "text/plain": [
       "1.0"
      ]
     },
     "execution_count": 29,
     "metadata": {},
     "output_type": "execute_result"
    }
   ],
   "source": [
    "class Shirley:\n",
    "    \n",
    "    def __init__(self):\n",
    "        self.sprite = 0\n",
    "        self.grenadine = 0\n",
    "        self.cherry = 0\n",
    "        \n",
    "    def add_ingredients(self,sprite,grenadine,cherry):\n",
    "        self.sprite = sprite\n",
    "        self.grenadine = grenadine\n",
    "        self.cherry = cherry\n",
    "        \n",
    "    def mix(self):\n",
    "        self.servings = self.sprite / 300\n",
    "        return self.servings \n",
    "        \n",
    "        \n",
    "a = Shirley()\n",
    "a.add_ingredients(300,1,1)\n",
    "a.mix()"
   ]
  },
  {
   "cell_type": "code",
   "execution_count": null,
   "metadata": {},
   "outputs": [],
   "source": []
  }
 ],
 "metadata": {
  "kernelspec": {
   "display_name": "Python 3",
   "language": "python",
   "name": "python3"
  },
  "language_info": {
   "codemirror_mode": {
    "name": "ipython",
    "version": 3
   },
   "file_extension": ".py",
   "mimetype": "text/x-python",
   "name": "python",
   "nbconvert_exporter": "python",
   "pygments_lexer": "ipython3",
   "version": "3.8.3"
  }
 },
 "nbformat": 4,
 "nbformat_minor": 4
}
