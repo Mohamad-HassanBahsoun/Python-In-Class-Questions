{
 "cells": [
  {
   "cell_type": "markdown",
   "metadata": {
    "colab_type": "text",
    "id": "5QdvQy2EqCCu"
   },
   "source": [
    "# 1P13 Week 7 - *The Moment of Truth*\n",
    "---\n",
    "\n",
    "\n",
    "# Overview\n",
    "Welcome to another week of 1P13. This week we will be covering:\n",
    "* Boolean Comparison Operators\n",
    "* Decision Structures\n",
    "* While Loops"
   ]
  },
  {
   "cell_type": "markdown",
   "metadata": {
    "colab_type": "text",
    "id": "-NtPRyawtn8f"
   },
   "source": [
    "---\n",
    "# 1. Boolean Comparison Operators\n",
    "\n",
    "Comparison operators are used to check for conditions by comparing values and return in a Boolean value\n",
    "\n",
    "## 1.1 Comparison Operators \n",
    "The comparison operators in python are: <br/>\n",
    "* `<` **Less than**\n",
    "* `>` **Greater than**\n",
    "* `<=` **Less than or equal to**\n",
    "* `>=` **Greater than or equal to**\n",
    "* `==` **Equal**\n",
    "* `!=` **Not equal**\n",
    "\n",
    "Comparisons can be done between numeric\n",
    "values, expressions, or variables. Here's some examples using two numbers:"
   ]
  },
  {
   "cell_type": "code",
   "execution_count": null,
   "metadata": {
    "colab": {
     "base_uri": "https://localhost:8080/",
     "height": 51
    },
    "colab_type": "code",
    "id": "mDQS9Cm1VtDD",
    "outputId": "ffe1d975-83f5-4275-afa0-0092bf422f2d"
   },
   "outputs": [],
   "source": [
    "#These operations can return one of two values\n",
    "#Either True or False, intuitively\n",
    "\n",
    "x = 10\n",
    "y = 12\n",
    "\n",
    "print(\"x > y is\", x>y)\n",
    "print(\"x < y is\", x<y)\n",
    "print(\"x == y is\", x==y)\n",
    "print(\"x != y is\", x!=y)\n",
    "\n",
    "#You can also give variables the value of True or False\n",
    "#You'll see this used in an example later, but also here:\n"
   ]
  },
  {
   "cell_type": "markdown",
   "metadata": {
    "colab_type": "text",
    "id": "Jp7SurUQVW-X"
   },
   "source": [
    "---\n",
    "# 2. Decision Stuctures\n",
    "We use decision structures to tell our program to do, or not do, something based based on criteria we set.\n",
    "\n",
    "\n",
    "## 2.1 The If Statement\n",
    "Here's an incredibly simple example of one IF statement"
   ]
  },
  {
   "cell_type": "code",
   "execution_count": null,
   "metadata": {
    "colab": {},
    "colab_type": "code",
    "id": "vPQhOFank8ZY"
   },
   "outputs": [],
   "source": [
    "#Let's take a string input from the user\n",
    "IAI = input(\"Who is the best IAI: \")\n",
    "\n",
    "#If the input is what we want, we can use: input == criteria, to enter the IF block\n",
    "if IAI == \"John\":\n",
    "    print(\"Correct\")\n",
    "\n",
    "# ^ capitalization matters"
   ]
  },
  {
   "cell_type": "markdown",
   "metadata": {
    "colab_type": "text",
    "id": "diNPFDAqkz-v"
   },
   "source": [
    "## 2.2 The If-Else Statement\n",
    "We can add an ELSE block if we want something to occur when our IF block is NOT entered\n"
   ]
  },
  {
   "cell_type": "code",
   "execution_count": null,
   "metadata": {
    "colab": {},
    "colab_type": "code",
    "id": "rVznlLvnk_z2"
   },
   "outputs": [],
   "source": [
    "#Copy from the example above\n",
    "\n",
    "IAI = input(\"Who is the best IAI: \")\n",
    "if IAI == \"John\":\n",
    "    print(\"Correct\")\n",
    "else:\n",
    "    print(\"Incorrect\")\n",
    "\n",
    "\n",
    "#Add our ELSE block here to activate when the IF does not\n"
   ]
  },
  {
   "cell_type": "markdown",
   "metadata": {},
   "source": [
    "### Let's Try A More Complicated Example\n",
    "Write code that determines whether the inputted integer year is/was a leap year\n",
    "\n",
    "* If it is NOT divisible by 4 it is definitely NOT a leap year (return False and exit)\n",
    "* If the year is divisible by 4 it might be a leap year (Maybe Return True?)\n",
    "* If it is divisible by 4, but also 100, then it may not be a leap year (Maybe Return False?)\n",
    "* If it is divisible by 4, but also 100, but ALSO 400, then it is certainly a leap year (Return True and exit)\n",
    "\n",
    "So we'll need an IF statement, an ELSE statement, and 2 more IF statements"
   ]
  },
  {
   "cell_type": "code",
   "execution_count": null,
   "metadata": {},
   "outputs": [],
   "source": [
    "def leap_year(year):\n",
    "    if year%4 != 0:\n",
    "        leap = False\n",
    "        return leap\n",
    "    else:\n",
    "        leap = True\n",
    "    if year % 100 == 0:\n",
    "        leap= False\n",
    "    if year%400==0:\n",
    "        leap=True\n",
    "    return leap\n",
    "\n",
    "my_year = 2020\n",
    "leap_check = leap_year(my_year)\n",
    "if leap_check:\n",
    "    print(my_year,\"is a leap year\")\n",
    "else:\n",
    "    print(my_year, \"is not a leap year\")\n",
    "        \n",
    "    #If it is NOT divisible by 4 it is definitely NOT a leap year\n",
    "\n",
    "                        #exit function here\n",
    "    \n",
    "    #Else it may be a leap year\n",
    "\n",
    "    \n",
    "    #If it is divisible by 4 (didn't exit the function with return in first IF), but also 100, then it may not be a leap year\n",
    "\n",
    "    \n",
    "    #If it is divisible by 4, but also 100, but ALSO 400, then it is certainly a leap year  \n",
    "\n",
    "    \n",
    "    \n",
    "#Check: 2000 was a leap year, so is 2020, and obviously 4\n",
    "   \n",
    "\n",
    "#Use the leap variable to determine which statement to print, leap can be used as the sole conditional\n",
    "#So you can enter the IF so long as the variable itself holds the boolean value True\n",
    "\n",
    "\n",
    "    "
   ]
  },
  {
   "cell_type": "markdown",
   "metadata": {
    "colab_type": "text",
    "id": "9jJQT5kPlSKz"
   },
   "source": [
    "## 2.3 The If-Elif-Else Statement\n",
    "We also have access to ELIF blocks. These will activate only when the preceeding IF block is NOT activated. If the ELIF is activated, it also prevents the ELSE from being entered.\n"
   ]
  },
  {
   "cell_type": "code",
   "execution_count": null,
   "metadata": {
    "colab": {
     "base_uri": "https://localhost:8080/",
     "height": 51
    },
    "colab_type": "code",
    "id": "kn7NNBvFlFil",
    "outputId": "066a2a18-f702-4934-de64-e76a30192616"
   },
   "outputs": [],
   "source": [
    "#Not a particularly relevant module, but you'll see how I use it\n",
    "import sys\n",
    "\n",
    "#Using all of If-Elif-Else, write a print statement for each of the following inputted GPAs:\n",
    "#GPA >= 9.5, 9.5 > GPA >= 4, and 4 > GPA\n",
    "\n",
    "#Get the input GPA as a float\n",
    "gpa = float(input(\"Enter your gpa: \"))\n",
    "\n",
    "\n",
    "#First, we catch the liars with > 12 and < 0\n",
    "if gpa > 12.0:\n",
    "    print(\"Stop Capping\")\n",
    "    sys.exit()\n",
    "if gpa < 0.0:\n",
    "    print(\"Hello why you Capping\")\n",
    "    sys.exit()\n",
    "#Now the real code\n",
    "if gpa >= 9.5:\n",
    "    print(\"Dean's List\")\n",
    "elif gpa>=4:\n",
    "    print(\"Youre doing fine\")\n",
    "else:\n",
    "    print(\"hmmmmmmmmmmmmmmmmmmmmmm\")\n",
    "\n",
    "      \n",
    "#elif statement so it acts as 9.5 > GPA >= 4  \n"
   ]
  },
  {
   "cell_type": "markdown",
   "metadata": {
    "colab_type": "text",
    "id": "8D80OpKmqCFY"
   },
   "source": [
    "# 3. While Loops\n",
    "\n",
    "## 3.1 Condition Statement\n",
    "\n",
    "The `while` statement is used for repeated execution as long as an expression is true\n",
    "* Useful for when the solution requires an\n",
    "indeterminate amount of repetitions"
   ]
  },
  {
   "cell_type": "markdown",
   "metadata": {},
   "source": [
    "### Here's a Very Simple While Loop Example"
   ]
  },
  {
   "cell_type": "code",
   "execution_count": null,
   "metadata": {},
   "outputs": [],
   "source": [
    "#Create a function that returns the sum of the natural numbers up to and including N (passed as an argument)\n",
    "def natSum(N):\n",
    "    total = 0\n",
    "    i = 1\n",
    "    while i<=N:\n",
    "        total+=i\n",
    "        i+=1\n",
    "    return total\n",
    "sum = natSum(10)\n",
    "print(sum)\n",
    "        \n",
    "    \n",
    "#N = 10 SUM = 55"
   ]
  },
  {
   "cell_type": "markdown",
   "metadata": {
    "colab_type": "text",
    "id": "p7QEQ1PnQfd3"
   },
   "source": [
    "### Here's a Paradoxically Complex, Yet Simple Problem: Perform Division By Repeated Subtraction"
   ]
  },
  {
   "cell_type": "code",
   "execution_count": 2,
   "metadata": {
    "colab": {},
    "colab_type": "code",
    "id": "eHkhmlWlQlpq"
   },
   "outputs": [
    {
     "name": "stdout",
     "output_type": "stream",
     "text": [
      "Enter the dividend: 10\n",
      "Enter the divisor: 2\n",
      "8\n",
      "6\n",
      "4\n",
      "2\n",
      "0\n"
     ]
    }
   ],
   "source": [
    "#Get your numbers, make them positive (just in case)\n",
    "dividend = abs(int(input(\"Enter the dividend: \")))\n",
    "divisor = abs(int(input(\"Enter the divisor: \")))\n",
    "\n",
    "#In case of division by zero, print an error and keep asking for a new divisor while it is still 0\n",
    "while divisor == 0:\n",
    "    print(\"Review 1ZA3\")\n",
    "    divisor = abs(int(input(\"Enter the divisor: \")))\n",
    "    \n",
    "\n",
    "#Save the dividend value for later\n",
    "\n",
    "dividend_copy = dividend\n",
    "\n",
    "#Keep count of the subtractions\n",
    "subtractions = 0\n",
    "\n",
    "#Division by repeated subtraction\n",
    "while dividend >= divisor:\n",
    "    subtractions +=1\n",
    "    dividend = dividend-divisor\n",
    "    print(dividend)\n",
    "\n",
    "\n",
    "#Print everything out nicely\n",
    "#print(dividend_copy, \"/\", divisor, \"=\", subtractions, \"with remainder\", dividend)"
   ]
  },
  {
   "cell_type": "markdown",
   "metadata": {
    "colab_type": "text",
    "id": "EVwKk9CVQ-3r"
   },
   "source": [
    "## 3.x INFINITE POWER\n",
    "### Here's Why You Should Always Double-Check Your Code"
   ]
  },
  {
   "cell_type": "code",
   "execution_count": null,
   "metadata": {},
   "outputs": [],
   "source": [
    "x = 96\n",
    "y = 12\n",
    "\n",
    "#This loop will modify x as long as x is not equal to y, per the conditional statement\n",
    "#While loops are useful when you don't really know how many times your loop should run\n",
    "#You just know that it should run while some condition is True\n",
    "while x!= y:\n",
    "    x = x - y\n",
    "    print(x)\n",
    "\n",
    "\n",
    "#Consider the following: what if we flip the subtraction to be x = y - x like in the code below?\n",
    "#Spoiler: it results in an INFINITE LOOP, which will brick the kernel (not that a big a deal here, just stop and restart it)\n",
    "#Small mistakes like this can break your entire code\n",
    "    \n",
    "'''\n",
    "while x!= y:\n",
    "    x = y - x\n",
    "    print(x)\n",
    "'''"
   ]
  },
  {
   "cell_type": "markdown",
   "metadata": {},
   "source": [
    "### Here's a Demo That's Certain to Help You Out Later - Nested IF Statements"
   ]
  },
  {
   "cell_type": "code",
   "execution_count": 3,
   "metadata": {},
   "outputs": [
    {
     "name": "stdout",
     "output_type": "stream",
     "text": [
      "Enter your number: 0\n",
      "Zero\n"
     ]
    }
   ],
   "source": [
    "#Use a NESTED IF-ELSE to determine if an inputted real number is greater, less than, or equal to zero\n",
    "\n",
    "num = float(input(\"Enter your number: \"))\n",
    "\n",
    "\n",
    "#We can create IF blocks within IF blocks to create paths as we need them\n",
    "if num >=0:\n",
    "    if num > 0:\n",
    "        print(\"Positive\")\n",
    "    else:\n",
    "        print(\"Zero\")\n",
    "else:\n",
    "    print(\"Negative\")\n",
    "\n"
   ]
  },
  {
   "cell_type": "markdown",
   "metadata": {},
   "source": [
    "### Quick Refresher of An Earlier Trick"
   ]
  },
  {
   "cell_type": "code",
   "execution_count": null,
   "metadata": {},
   "outputs": [],
   "source": [
    "#Another thing to note is that you can have a boolean be the sole variable in the condition to enter an IF\n",
    "#We also did this in the leap year example but let's just see it again\n",
    "\n",
    "\n",
    "\n",
    "\n",
    "#This is useful if you have a function that returns a boolean (a variable holding True or False) and you have an IF\n",
    "#statement that relies on that function's return"
   ]
  },
  {
   "cell_type": "markdown",
   "metadata": {},
   "source": [
    "---\n",
    "# Breakout Problem\n",
    "\n",
    "In your teams, complete the following tasks.\n",
    "\n",
    "**Task 1**\n",
    "\n",
    "Convert the following for loop to a while loop so that the same sequence of numbers are printed.\n",
    "\n",
    "```\n",
    "for i in range(20,-4,-2):\n",
    "  print(i)\n",
    "```\n",
    "\n",
    "\n",
    "\n"
   ]
  },
  {
   "cell_type": "code",
   "execution_count": 12,
   "metadata": {},
   "outputs": [
    {
     "name": "stdout",
     "output_type": "stream",
     "text": [
      "20\n",
      "18\n",
      "16\n",
      "14\n",
      "12\n",
      "10\n",
      "8\n",
      "6\n",
      "4\n",
      "2\n",
      "0\n",
      "-2\n"
     ]
    }
   ],
   "source": [
    "# YOUR CODE HERE\n",
    "i = 20\n",
    "while 20 >=i>-4:\n",
    "    print(i)\n",
    "    i+= -2"
   ]
  },
  {
   "cell_type": "markdown",
   "metadata": {},
   "source": [
    "**Task 2**\n",
    "\n",
    "Write a function that will iterate through a list of numbers and prints the following message based on the number:\n",
    "* If the number is divisible by 2, print \"Div by 2!\"\n",
    "* If the number is divisible by 3, print \"Div by 3!\"\n",
    "* If the number is divisible by 2 and 3, print \"Div by 2 and 3!\"\n",
    "* If the number is divisible by neither 2 or 3, print the number itself\n",
    "\n",
    "The function takes a single argument (a list of integers) and returns None.\n",
    "\n",
    "Complete the function *determineDiv* given below. (Hint, you will need to use nested conditional statements). \n",
    "Run the main function by running the cell to test your code! Verify that your code is correct based on what you expect the output to be!"
   ]
  },
  {
   "cell_type": "code",
   "execution_count": 13,
   "metadata": {},
   "outputs": [
    {
     "name": "stdout",
     "output_type": "stream",
     "text": [
      "[1, 2, 3, 4, 5, 6, 7, 8, 9, 10, 11, 12, 13, 14, 15, 16, 17, 18, 19, 20]\n",
      "1\n",
      "Div by 2\n",
      "Div by 3\n",
      "Div by 2\n",
      "5\n",
      "Div by 2 and 3\n",
      "7\n",
      "Div by 2\n",
      "Div by 3\n",
      "Div by 2\n",
      "11\n",
      "Div by 2 and 3\n",
      "13\n",
      "Div by 2\n",
      "Div by 3\n",
      "Div by 2\n",
      "17\n",
      "Div by 2 and 3\n",
      "19\n",
      "Div by 2\n"
     ]
    }
   ],
   "source": [
    "def determineDiv(num_list):\n",
    "    # YOUR CODE HERE\n",
    "    for i in num_list:\n",
    "        if i % 2 == 0:\n",
    "            if (i%3==0):\n",
    "                print(\"Div by 2 and 3\")\n",
    "            else:\n",
    "                print(\"Div by 2\")\n",
    "        elif i%3 == 0:\n",
    "            if (i%2==0):\n",
    "                print(\"Div by 2 and 3\")\n",
    "            else:\n",
    "                print(\"Div by 3\")\n",
    "        else:\n",
    "            print(i)  \n",
    "    return None\n",
    "\n",
    "#     for i in num_list:\n",
    "#         if i%2==0 and i%3!=0:\n",
    "#             print(\"Div by 2\")\n",
    "#         elif i %3==0 and i%2!=0:\n",
    "#             print(\"Div by 3\")\n",
    "#         elif i%2==0 and i%3==0:\n",
    "#             print(\"Div by 2 and 3\")\n",
    "#         else:\n",
    "#             print(i)\n",
    "#     return None\n",
    "\n",
    "\n",
    "def main():\n",
    "    x = []\n",
    "    for i in range(1,21): # Generate list of numbers from 1-20\n",
    "        x.append(i)\n",
    "    print(x)\n",
    "    determineDiv(x)\n",
    "main()"
   ]
  },
  {
   "cell_type": "markdown",
   "metadata": {},
   "source": [
    "---\n",
    "# Additional Resources\n",
    "[String Methods](https://docs.python.org/2.5/lib/string-methods.html)\n",
    "\n",
    "[W3 Schools: Python Lists](https://www.w3schools.com/python/python_lists.asp)\n",
    "\n",
    "[W3 Schools: Python List/Array Methods](https://www.w3schools.com/python/python_ref_list.asp)\n",
    "\n",
    "[W3 Schools: Python Strings](https://www.w3schools.com/python/python_strings.asp)\n",
    "\n",
    "[W3 Schools: Python String Methods](https://www.w3schools.com/python/python_ref_string.asp)\n",
    "\n",
    "[W3 Schools: Python For Loops](https://www.w3schools.com/python/python_for_loops.asp)\n",
    "\n",
    "[W3 Schools: Python range() Function](https://www.w3schools.com/python/ref_func_range.asp)"
   ]
  }
 ],
 "metadata": {
  "colab": {
   "name": "Computing Pre-Lab Notebook 4",
   "provenance": []
  },
  "kernelspec": {
   "display_name": "Python 3",
   "language": "python",
   "name": "python3"
  },
  "language_info": {
   "codemirror_mode": {
    "name": "ipython",
    "version": 3
   },
   "file_extension": ".py",
   "mimetype": "text/x-python",
   "name": "python",
   "nbconvert_exporter": "python",
   "pygments_lexer": "ipython3",
   "version": "3.8.3"
  }
 },
 "nbformat": 4,
 "nbformat_minor": 1
}
